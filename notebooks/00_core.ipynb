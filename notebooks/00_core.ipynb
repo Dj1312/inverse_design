{
 "cells": [
  {
   "cell_type": "code",
   "execution_count": null,
   "id": "b832048c-007f-48ef-bce4-2d535f350a84",
   "metadata": {},
   "outputs": [],
   "source": [
    "# default_exp core"
   ]
  },
  {
   "cell_type": "markdown",
   "id": "af4f4bbf-9cc8-490c-88ba-5310a9723a3b",
   "metadata": {},
   "source": [
    "# Core\n",
    "> Method by Google X"
   ]
  },
  {
   "cell_type": "code",
   "execution_count": null,
   "id": "5f43fb49-471d-4caa-b718-320de40278f6",
   "metadata": {},
   "outputs": [],
   "source": [
    "# exporti\n",
    "import jax.numpy as jnp"
   ]
  },
  {
   "cell_type": "code",
   "execution_count": null,
   "id": "9bf642ae-446f-400c-aa63-d385935ce8fd",
   "metadata": {},
   "outputs": [],
   "source": [
    "# export\n",
    "def new_design():\n",
    "    return jnp.zeros([6, 8], dtype=jnp.int8)"
   ]
  },
  {
   "cell_type": "code",
   "execution_count": null,
   "id": "ff3768da-4624-400b-9eb0-c0adcf3058fa",
   "metadata": {},
   "outputs": [],
   "source": [
    "# export\n",
    "def new_tsb():\n",
    "    return []"
   ]
  },
  {
   "cell_type": "code",
   "execution_count": null,
   "id": "d92d6c4d-219b-47a0-b7f1-966c62ab9f4d",
   "metadata": {},
   "outputs": [],
   "source": [
    "# export\n",
    "def new_tvb():\n",
    "    return []"
   ]
  },
  {
   "cell_type": "code",
   "execution_count": null,
   "id": "7d13a618-bcf4-4632-be7b-b00ff36d11d5",
   "metadata": {},
   "outputs": [],
   "source": [
    "# export\n",
    "def is_complete(design):\n",
    "    return (jnp.abs(design) == 1).all()"
   ]
  },
  {
   "cell_type": "code",
   "execution_count": null,
   "id": "1e3033d4-2001-4577-a2d9-5258b0ab930f",
   "metadata": {},
   "outputs": [],
   "source": [
    "# export\n",
    "def fill_solid(design):\n",
    "    return design.at[:,:].set(1)"
   ]
  },
  {
   "cell_type": "code",
   "execution_count": null,
   "id": "bedf0629-c8e8-485d-b800-36d412804011",
   "metadata": {},
   "outputs": [],
   "source": [
    "# export\n",
    "def fill_void(design):\n",
    "    return design.at[:,:].set(-1)"
   ]
  },
  {
   "cell_type": "code",
   "execution_count": null,
   "id": "0d7b8481-20bf-4ba2-a9ce-b848576dcb0f",
   "metadata": {},
   "outputs": [],
   "source": [
    "# export\n",
    "def random_touch(design):\n",
    "    pass"
   ]
  },
  {
   "cell_type": "code",
   "execution_count": null,
   "id": "31f6a4ca-afda-4cde-93c2-73c106cdb0e3",
   "metadata": {},
   "outputs": [],
   "source": [
    "tsb = new_tsb()\n",
    "tvb = new_tvb()\n",
    "design = new_design()\n",
    "while not is_complete(design):\n",
    "    design = fill_void(design)"
   ]
  }
 ],
 "metadata": {
  "kernelspec": {
   "display_name": "x",
   "language": "python",
   "name": "x"
  }
 },
 "nbformat": 4,
 "nbformat_minor": 5
}
