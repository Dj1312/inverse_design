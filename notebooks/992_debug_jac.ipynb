{
 "cells": [
  {
   "cell_type": "code",
   "execution_count": 1,
   "metadata": {},
   "outputs": [],
   "source": [
    "# import ceviche_challenges\n",
    "# from ceviche_challenges import units as u\n",
    "# from ceviche_challenges.model_base import _wavelengths_nm_to_omegas\n",
    "\n",
    "from ceviche import viz, fdfd_ez\n",
    "from ceviche import jacobian\n",
    "\n",
    "import autograd\n",
    "import autograd.numpy as npa\n",
    "import jax\n",
    "import jax.numpy as jnp\n",
    "\n",
    "import numpy as np\n",
    "import matplotlib.pyplot as plt\n",
    "\n",
    "np.random.seed(42)"
   ]
  },
  {
   "cell_type": "markdown",
   "metadata": {},
   "source": [
    "# Autograd version"
   ]
  },
  {
   "cell_type": "code",
   "execution_count": 22,
   "metadata": {},
   "outputs": [],
   "source": [
    "def f_ad(x):\n",
    "    return npa.cos(x), npa.sin(x)\n",
    "\n",
    "def g_ad(x1, x2):\n",
    "    return x1 + x2\n",
    "\n",
    "def g2_ad(x1, x2):\n",
    "    return npa.square(x1) + npa.square(x2)\n",
    "\n",
    "# def g2_ad(x):\n",
    "#     # return npa.sqrt(npa.sum(npa.square(npa.abs(x))))\n",
    "#     return npa.sum(npa.square(x))\n",
    "\n",
    "def h_ad(x):\n",
    "    return g_ad(*f_ad(x))"
   ]
  },
  {
   "cell_type": "markdown",
   "metadata": {},
   "source": [
    "# Jax version"
   ]
  },
  {
   "cell_type": "code",
   "execution_count": 23,
   "metadata": {},
   "outputs": [],
   "source": [
    "def f_jax(x):\n",
    "    return jnp.cos(x), jnp.sin(x)\n",
    "\n",
    "def g_jax(x1, x2):\n",
    "    return x1 + x2\n",
    "\n",
    "def g2_jax(x1, x2):\n",
    "    return jnp.square(x1) + jnp.square(x2)\n",
    "\n",
    "def h_jax(x):\n",
    "    return g_jax(*f_jax(x))"
   ]
  },
  {
   "cell_type": "code",
   "execution_count": 24,
   "metadata": {},
   "outputs": [],
   "source": [
    "x = np.random.rand(3,3)\n",
    "xbis = np.random.rand(3,3)\n",
    "\n",
    "x_ad = npa.array(x)\n",
    "xbis_ad = npa.array(xbis)\n",
    "\n",
    "x_jax = jnp.array(x)\n",
    "xbis_jax = jnp.array(xbis)"
   ]
  },
  {
   "cell_type": "markdown",
   "metadata": {},
   "source": [
    "# g Comparison"
   ]
  },
  {
   "cell_type": "code",
   "execution_count": 25,
   "metadata": {},
   "outputs": [],
   "source": [
    "y_jax = h_jax(x_jax)\n",
    "\n",
    "Jac_G = jax.jacfwd(g_jax)(x_jax, xbis_jax)\n",
    "Jac_G2 = jax.jacfwd(g2_jax)(x_jax, xbis_jax)"
   ]
  },
  {
   "cell_type": "code",
   "execution_count": 26,
   "metadata": {},
   "outputs": [],
   "source": [
    "y_ad = h_ad(x_ad)\n",
    "\n",
    "Jac_ad_G = autograd.jacobian(g_ad)(x_ad, xbis_ad)\n",
    "Jac_ad_G2 = autograd.jacobian(g2_ad)(x_ad, xbis_ad)"
   ]
  },
  {
   "cell_type": "code",
   "execution_count": 27,
   "metadata": {},
   "outputs": [],
   "source": [
    "assert (Jac_G == Jac_ad_G).all()\n",
    "assert (Jac_G2 == Jac_ad_G2).all()"
   ]
  },
  {
   "cell_type": "markdown",
   "metadata": {},
   "source": [
    "# h Comparison"
   ]
  },
  {
   "cell_type": "code",
   "execution_count": 32,
   "metadata": {},
   "outputs": [],
   "source": [
    "Jac_H = jax.jacfwd(h_jax)(x_jax)\n",
    "Jac_ad_H = autograd.jacobian(h_ad)(x_ad)"
   ]
  },
  {
   "cell_type": "code",
   "execution_count": 41,
   "metadata": {
    "scrolled": true
   },
   "outputs": [],
   "source": [
    "assert ((Jac_H - Jac_ad_H) / np.linalg.norm(Jac_H)).max() < 1e-7"
   ]
  },
  {
   "cell_type": "code",
   "execution_count": null,
   "metadata": {},
   "outputs": [],
   "source": []
  }
 ],
 "metadata": {
  "kernelspec": {
   "display_name": "Python 3 (ipykernel)",
   "language": "python",
   "name": "python3"
  },
  "language_info": {
   "codemirror_mode": {
    "name": "ipython",
    "version": 3
   },
   "file_extension": ".py",
   "mimetype": "text/x-python",
   "name": "python",
   "nbconvert_exporter": "python",
   "pygments_lexer": "ipython3",
   "version": "3.11.0"
  },
  "vscode": {
   "interpreter": {
    "hash": "a5d82d334f0157d2be4b279e89bf68849715c6d8952d96f6c35a4a723c2a5f2a"
   }
  }
 },
 "nbformat": 4,
 "nbformat_minor": 2
}
