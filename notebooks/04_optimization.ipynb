{
 "cells": [
  {
   "cell_type": "code",
   "execution_count": null,
   "id": "87dacf7c-99f3-4570-995e-ec421e505157",
   "metadata": {},
   "outputs": [],
   "source": [
    "# default_exp optimization"
   ]
  },
  {
   "cell_type": "markdown",
   "id": "44c6518e-b67c-410c-8aec-faff839eb183",
   "metadata": {},
   "source": [
    "# Optimization\n",
    "> Let's leave the physica simulator out of it for now..."
   ]
  },
  {
   "cell_type": "code",
   "execution_count": null,
   "id": "9b4a12fe-f188-4bff-ab38-837b9f29e8fe",
   "metadata": {},
   "outputs": [],
   "source": [
    "import jax\n",
    "import jax.numpy as jnp\n",
    "import numpy as np\n",
    "from jax.example_libraries.optimizers import adam\n",
    "from tqdm.notebook import trange"
   ]
  },
  {
   "cell_type": "code",
   "execution_count": null,
   "id": "16da6eed-588c-4be8-b697-ca2441dd631d",
   "metadata": {},
   "outputs": [],
   "source": [
    "latent = jnp.asarray(np.random.RandomState(seed=42).rand(4,4))\n",
    "latent"
   ]
  },
  {
   "cell_type": "code",
   "execution_count": null,
   "id": "c8d34d01-2d40-47c0-9380-84700f642ad6",
   "metadata": {},
   "outputs": [],
   "source": [
    "target = jnp.asarray(np.random.RandomState(seed=36).rand(4,4)) > 0\n",
    "target"
   ]
  },
  {
   "cell_type": "code",
   "execution_count": null,
   "id": "1544a8dd-1fbc-4a61-aa93-28ca2fd460c4",
   "metadata": {},
   "outputs": [],
   "source": [
    "def loss_fn(latent, target):\n",
    "    return ((target - latent)**2).mean()\n",
    "\n",
    "loss_fn(latent, target)"
   ]
  },
  {
   "cell_type": "code",
   "execution_count": null,
   "id": "077212a0-ca67-45f5-b0c5-169c99901b7c",
   "metadata": {},
   "outputs": [],
   "source": [
    "grad_fn = jax.grad(loss_fn, argnums=0)\n",
    "grad_fn(latent, target)"
   ]
  },
  {
   "cell_type": "code",
   "execution_count": null,
   "id": "b9bbc1ff-6f67-45db-8b3f-60864afa78c5",
   "metadata": {},
   "outputs": [],
   "source": [
    "init_fn, update_fn, params_fn = adam(0.01)\n",
    "state = init_fn(latent)\n",
    "params_fn(state)"
   ]
  },
  {
   "cell_type": "code",
   "execution_count": null,
   "id": "79a9a5a0-2514-42ed-a17b-883e57b3031e",
   "metadata": {},
   "outputs": [],
   "source": [
    "def step_fn(step, state, target):\n",
    "    latent = params_fn(state)\n",
    "    loss = loss_fn(latent, target)\n",
    "    grads = grad_fn(latent, target)\n",
    "    optim_state = update_fn(step, grads, state)\n",
    "    return loss, optim_state"
   ]
  },
  {
   "cell_type": "code",
   "execution_count": null,
   "id": "fe554a54-ebe0-4603-beae-55ed775a54a6",
   "metadata": {},
   "outputs": [],
   "source": [
    "range_ = trange(1000)\n",
    "for step in range_:\n",
    "    loss, state = step_fn(step, state, target)\n",
    "    range_.set_postfix(loss=float(loss))"
   ]
  },
  {
   "cell_type": "code",
   "execution_count": null,
   "id": "62ef4aa0-71db-4634-9239-11f535fb172a",
   "metadata": {},
   "outputs": [],
   "source": [
    "params_fn(state)"
   ]
  },
  {
   "cell_type": "code",
   "execution_count": null,
   "id": "d9b98003-ce36-48f4-bb18-bb5a386cf64e",
   "metadata": {},
   "outputs": [],
   "source": []
  }
 ],
 "metadata": {
  "kernelspec": {
   "display_name": "x",
   "language": "python",
   "name": "x"
  }
 },
 "nbformat": 4,
 "nbformat_minor": 5
}
