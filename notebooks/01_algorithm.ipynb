{
 "cells": [
  {
   "cell_type": "code",
   "execution_count": null,
   "id": "5e328a8d-c221-4374-98d3-9f41119065c5",
   "metadata": {},
   "outputs": [],
   "source": [
    "# default_exp algorithm"
   ]
  },
  {
   "cell_type": "markdown",
   "id": "603a2587-7c41-4fb8-9cd9-08a0c163b214",
   "metadata": {},
   "source": [
    "# Inverse Design\n",
    "> Method by Google X"
   ]
  },
  {
   "cell_type": "code",
   "execution_count": null,
   "id": "90cced79-de37-42bb-a64f-5f1c73fafbc1",
   "metadata": {},
   "outputs": [],
   "source": [
    "# exporti\n",
    "from typing import NamedTuple\n",
    "\n",
    "import jax.numpy as jnp\n",
    "import matplotlib.pyplot as plt\n",
    "from matplotlib.colors import ListedColormap\n",
    "from fastcore.basics import patch_to"
   ]
  },
  {
   "cell_type": "code",
   "execution_count": null,
   "id": "24294614-840d-479e-bb99-68c1b55ef9a9",
   "metadata": {},
   "outputs": [],
   "source": [
    "UNASSIGNED = 0\n",
    "VOID = 1\n",
    "SOLID = 2\n",
    "PIXEL_IMPOSSIBLE = 3\n",
    "PIXEL_EXISTING = 4\n",
    "PIXEL_POSSIBLE = 5\n",
    "PIXEL_REQUIRED = 6\n",
    "TOUCH_REQUIRED = 7\n",
    "TOUCH_INVALID = 8\n",
    "TOUCH_EXISTING = 9\n",
    "TOUCH_VALID = 10\n",
    "TOUCH_FREE = 11\n",
    "TOUCH_RESOLVING = 12"
   ]
  },
  {
   "cell_type": "code",
   "execution_count": null,
   "id": "bd6136b1-426f-4046-9439-225e1ecebca8",
   "metadata": {},
   "outputs": [],
   "source": [
    "# export\n",
    "class Design(NamedTuple):\n",
    "    design: jnp.ndarray\n",
    "    void_pixels: jnp.ndarray\n",
    "    solid_pixels: jnp.ndarray\n",
    "    void_touches: jnp.ndarray\n",
    "    solid_touches: jnp.ndarray"
   ]
  },
  {
   "cell_type": "code",
   "execution_count": null,
   "id": "af2ff0e9-3cfd-415a-a8ee-9141c74203dc",
   "metadata": {},
   "outputs": [],
   "source": [
    "# export\n",
    "def new_design(shape):\n",
    "    return Design(\n",
    "        design=jnp.zeros(shape, dtype=jnp.int8).at[:,:].set(VOID),\n",
    "        void_pixels=jnp.zeros(shape, dtype=jnp.int8).at[:,:].set(PIXEL_POSSIBLE),\n",
    "        solid_pixels=jnp.zeros(shape, dtype=jnp.int8).at[:,:].set(PIXEL_POSSIBLE),\n",
    "        void_touches=jnp.zeros(shape, dtype=jnp.int8).at[:,:].set(TOUCH_VALID),\n",
    "        solid_touches=jnp.zeros(shape, dtype=jnp.int8).at[:,:].set(TOUCH_VALID),\n",
    "    )"
   ]
  },
  {
   "cell_type": "code",
   "execution_count": null,
   "id": "04a98bb6-c332-4061-8b6e-351bcfd5a8ec",
   "metadata": {},
   "outputs": [],
   "source": [
    "def circular_brush(diameter):\n",
    "    radius = diameter / 2\n",
    "    X, Y = jnp.mgrid[-radius:radius:1j*diameter,-radius:radius:1j*diameter]\n",
    "    _int = lambda x: jnp.array(x, dtype=int)\n",
    "    brush = _int(X)**2 + _int(Y)**2 < radius**2\n",
    "    return brush\n",
    "\n",
    "plt.imshow(circular_brush(16));"
   ]
  },
  {
   "cell_type": "code",
   "execution_count": null,
   "id": "d1de78c5-b211-437b-a583-2f909dd96b62",
   "metadata": {},
   "outputs": [],
   "source": [
    "# export\n",
    "_cmap = ListedColormap( colors={ UNASSIGNED: \"#929292\", VOID: \"#cbcbcb\", SOLID: \"#515151\", PIXEL_IMPOSSIBLE: \"#8dd3c7\", PIXEL_EXISTING: \"#ffffb3\", PIXEL_POSSIBLE: \"#bebada\", PIXEL_REQUIRED: \"#fb7f72\", TOUCH_REQUIRED: \"#00ff00\", TOUCH_INVALID: \"#7fb1d3\", TOUCH_EXISTING: \"#fdb462\", TOUCH_VALID: \"#b3de69\", TOUCH_FREE: \"#fccde5\", TOUCH_RESOLVING: \"#e0e0e0\", }.values(), name=\"cmap\" )\n",
    "def visualize(design):\n",
    "    nx, ny = design.design.shape\n",
    "    fig, axs = plt.subplots(1, 5, figsize=(15,3*nx/ny))\n",
    "    for i, title in enumerate(design._fields):\n",
    "        ax = axs[i]\n",
    "        ax.set_title(title.replace(\"_\", \" \"))\n",
    "        ax.pcolormesh(design[i], cmap=_cmap, vmin=UNASSIGNED, vmax=TOUCH_RESOLVING)\n",
    "        ax.set_yticks(jnp.arange(nx), [\"\" for i in range(nx)])\n",
    "        ax.set_xticks(jnp.arange(ny), [\"\" for i in range(ny)])\n",
    "        ax.set_yticks(jnp.arange(nx)+0.5, [f\"{i}\" for i in range(nx)], minor=True)\n",
    "        ax.set_xticks(jnp.arange(ny)+0.5, [f\"{i}\" for i in range(ny)], minor=True)\n",
    "        ax.set_xlim(0, ny)\n",
    "        ax.set_ylim(nx, 0)\n",
    "        ax.grid(visible=True, which=\"major\", c=\"k\")\n",
    "\n",
    "@patch_to(Design)\n",
    "def _repr_html_(self):\n",
    "    visualize(self)\n",
    "    return \"\"\n",
    "    \n",
    "design = new_design((6, 8)) \n",
    "design"
   ]
  },
  {
   "cell_type": "code",
   "execution_count": null,
   "id": "74d7614d-d1fd-4a51-b193-a77c7d0f6b2d",
   "metadata": {},
   "outputs": [],
   "source": [
    "def add_void_touch(design, brush, pos):\n",
    "    return Design(\n",
    "        design=design.design,\n",
    "        void_pixels=design.void_pixels,\n",
    "        solid_pixels=design.solid_pixels,\n",
    "        void_touches=design.void_touches.at[pos].set(TOUCH_EXISTING),\n",
    "        solid_touches=design.solid_touches,\n",
    "    )"
   ]
  },
  {
   "cell_type": "code",
   "execution_count": null,
   "id": "4a9c1fde-5290-4a09-8e16-002453fee04a",
   "metadata": {},
   "outputs": [],
   "source": [
    "brush = circular_brush(13)\n",
    "add_void_touch(design, brush, (0, 6))"
   ]
  }
 ],
 "metadata": {
  "kernelspec": {
   "display_name": "sax",
   "language": "python",
   "name": "sax"
  }
 },
 "nbformat": 4,
 "nbformat_minor": 5
}
