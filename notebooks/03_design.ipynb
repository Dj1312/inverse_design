{
 "cells": [
  {
   "cell_type": "code",
   "execution_count": null,
   "id": "5e328a8d-c221-4374-98d3-9f41119065c5",
   "metadata": {},
   "outputs": [],
   "source": [
    "# default_exp design"
   ]
  },
  {
   "cell_type": "markdown",
   "id": "603a2587-7c41-4fb8-9cd9-08a0c163b214",
   "metadata": {},
   "source": [
    "# Design\n",
    "> All design-related functions"
   ]
  },
  {
   "cell_type": "code",
   "execution_count": null,
   "id": "ed53686f-1271-42f5-af05-b3ede89cdd0c",
   "metadata": {},
   "outputs": [],
   "source": [
    "# exporti\n",
    "from typing import NamedTuple\n",
    "\n",
    "import jax.numpy as jnp\n",
    "import matplotlib.pyplot as plt\n",
    "from fastcore.basics import patch_to\n",
    "from matplotlib.colors import ListedColormap\n",
    "from typing import NamedTuple\n",
    "\n",
    "import jax\n",
    "import jax.numpy as jnp\n",
    "import matplotlib.pyplot as plt\n",
    "from fastcore.basics import patch_to\n",
    "from inverse_design.utils import batch_conv2d, conv2d, dilute\n",
    "from matplotlib.colors import ListedColormap\n",
    "from types import SimpleNamespace\n",
    "from inverse_design.utils import and_, not_"
   ]
  },
  {
   "cell_type": "code",
   "execution_count": null,
   "id": "4ec6f716-2c00-4e06-9b45-3b2f1aa6eb13",
   "metadata": {},
   "outputs": [],
   "source": [
    "# export\n",
    "UNASSIGNED = 0\n",
    "VOID = 1\n",
    "SOLID = 2\n",
    "PIXEL_IMPOSSIBLE = 3\n",
    "PIXEL_EXISTING = 4\n",
    "PIXEL_POSSIBLE = 5\n",
    "PIXEL_REQUIRED = 6\n",
    "TOUCH_REQUIRED = 7\n",
    "TOUCH_INVALID = 8\n",
    "TOUCH_EXISTING = 9\n",
    "TOUCH_VALID = 10\n",
    "TOUCH_FREE = 11\n",
    "TOUCH_RESOLVING = 12"
   ]
  },
  {
   "cell_type": "code",
   "execution_count": null,
   "id": "9436c5ec-cca3-418c-85bc-71a973962fdc",
   "metadata": {},
   "outputs": [],
   "source": [
    "# export\n",
    "\n",
    "class Design(NamedTuple):\n",
    "    void: jnp.ndarray\n",
    "    solid: jnp.ndarray\n",
    "    void_pixel_impossible: jnp.ndarray\n",
    "    void_pixel_existing: jnp.ndarray\n",
    "    void_pixel_possible: jnp.ndarray\n",
    "    void_pixel_required: jnp.ndarray\n",
    "    solid_pixel_impossible: jnp.ndarray\n",
    "    solid_pixel_existing: jnp.ndarray\n",
    "    solid_pixel_possible: jnp.ndarray\n",
    "    solid_pixel_required: jnp.ndarray\n",
    "    void_touch_existing: jnp.ndarray\n",
    "    void_touch_valid: jnp.ndarray\n",
    "    void_touch_invalid: jnp.ndarray\n",
    "    void_touch_free: jnp.ndarray\n",
    "    void_touch_resolving: jnp.ndarray\n",
    "    solid_touch_invalid: jnp.ndarray\n",
    "    solid_touch_existing: jnp.ndarray\n",
    "    solid_touch_valid: jnp.ndarray\n",
    "    solid_touch_invalid: jnp.ndarray\n",
    "    solid_touch_free: jnp.ndarray\n",
    "    solid_touch_resolving: jnp.ndarray\n",
    "    \n",
    "    @property\n",
    "    def shape(self):\n",
    "        return self.unassigned.shape\n",
    "    \n",
    "    @property\n",
    "    def unassigned(self):\n",
    "        return and_(not_(self.void), not_(self.solid))\n",
    "    \n",
    "    def copy(self, **kwargs):\n",
    "        kwargs = {name: kwargs.get(name, getattr(self, name)) for name in self._fields}\n",
    "        return Design(*kwargs.values())"
   ]
  },
  {
   "cell_type": "code",
   "execution_count": null,
   "id": "0950add1-cc5a-4e39-8cf4-26631965d329",
   "metadata": {},
   "outputs": [],
   "source": [
    "# export\n",
    "def new_design(shape):\n",
    "    return Design(\n",
    "        void=jnp.zeros(shape, dtype=jnp.float32),\n",
    "        solid=jnp.zeros(shape, dtype=jnp.float32),\n",
    "        void_pixel_impossible=jnp.zeros(shape, dtype=jnp.float32),\n",
    "        void_pixel_existing=jnp.zeros(shape, dtype=jnp.float32),\n",
    "        void_pixel_possible=jnp.ones(shape, dtype=jnp.float32),\n",
    "        void_pixel_required=jnp.zeros(shape, dtype=jnp.float32),\n",
    "        solid_pixel_impossible=jnp.zeros(shape, dtype=jnp.float32),\n",
    "        solid_pixel_existing=jnp.zeros(shape, dtype=jnp.float32),\n",
    "        solid_pixel_possible=jnp.ones(shape, dtype=jnp.float32),\n",
    "        solid_pixel_required=jnp.zeros(shape, dtype=jnp.float32),\n",
    "        void_touch_invalid=jnp.zeros(shape, dtype=jnp.float32),\n",
    "        void_touch_existing=jnp.zeros(shape, dtype=jnp.float32),\n",
    "        void_touch_valid=jnp.ones(shape, dtype=jnp.float32),\n",
    "        void_touch_free=jnp.zeros(shape, dtype=jnp.float32),\n",
    "        void_touch_resolving=jnp.zeros(shape, dtype=jnp.float32),\n",
    "        solid_touch_invalid=jnp.zeros(shape, dtype=jnp.float32),\n",
    "        solid_touch_existing=jnp.zeros(shape, dtype=jnp.float32),\n",
    "        solid_touch_valid=jnp.ones(shape, dtype=jnp.float32),\n",
    "        solid_touch_free=jnp.zeros(shape, dtype=jnp.float32),\n",
    "        solid_touch_resolving=jnp.zeros(shape, dtype=jnp.float32),\n",
    "    )"
   ]
  },
  {
   "cell_type": "code",
   "execution_count": null,
   "id": "8ac1fd2f-96e0-4f70-b05b-32b3dc088e9e",
   "metadata": {},
   "outputs": [],
   "source": [
    "# export\n",
    "def design_mask(design, dtype=float):\n",
    "    return jnp.where(design.void > 0.5, -1.0, 1.0)"
   ]
  },
  {
   "cell_type": "code",
   "execution_count": null,
   "id": "dd03cd4f-4221-44b4-8813-c6f4595a062e",
   "metadata": {},
   "outputs": [],
   "source": [
    "# export\n",
    "def visualize(design):\n",
    "    zero = jnp.zeros_like(design.unassigned, dtype=jnp.uint8)\n",
    "    b = lambda float_mask: float_mask > 0.5\n",
    "    design_vis = dict(\n",
    "        design=zero.at[b(design.unassigned)].set(UNASSIGNED).at[b(design.void)].set(VOID).at[b(design.solid)].set(SOLID),\n",
    "        void_pixels=zero.at[b(design.void_pixel_possible)].set(PIXEL_POSSIBLE).at[b(design.void_pixel_impossible)].set(PIXEL_IMPOSSIBLE).at[b(design.void_pixel_existing)].set(PIXEL_EXISTING).at[b(design.void_pixel_required)].set(PIXEL_REQUIRED),\n",
    "        solid_pixels=zero.at[b(design.solid_pixel_possible)].set(PIXEL_POSSIBLE).at[b(design.solid_pixel_impossible)].set(PIXEL_IMPOSSIBLE).at[b(design.solid_pixel_existing)].set(PIXEL_EXISTING).at[b(design.solid_pixel_required)].set(PIXEL_REQUIRED),\n",
    "        void_touches=zero.at[b(design.void_touch_valid)].set(TOUCH_VALID).at[b(design.void_touch_invalid)].set(TOUCH_INVALID).at[b(design.void_touch_existing)].set(TOUCH_EXISTING).at[b(design.void_touch_free)].set(TOUCH_FREE).at[b(design.void_touch_resolving)].set(TOUCH_RESOLVING),\n",
    "        solid_touches=zero.at[b(design.solid_touch_valid)].set(TOUCH_VALID).at[b(design.solid_touch_invalid)].set(TOUCH_INVALID).at[b(design.solid_touch_existing)].set(TOUCH_EXISTING).at[b(design.solid_touch_free)].set(TOUCH_FREE).at[b(design.solid_touch_resolving)].set(TOUCH_RESOLVING),\n",
    "    )\n",
    "    nx, ny = design.shape\n",
    "    _cmap = ListedColormap(colors={UNASSIGNED: \"#929292\", VOID: \"#cbcbcb\", SOLID: \"#515151\", PIXEL_IMPOSSIBLE: \"#8dd3c7\", PIXEL_EXISTING: \"#ffffb3\", PIXEL_POSSIBLE: \"#bebada\", PIXEL_REQUIRED: \"#fb7f72\", TOUCH_REQUIRED: \"#00ff00\", TOUCH_INVALID: \"#7fb1d3\", TOUCH_EXISTING: \"#fdb462\", TOUCH_VALID: \"#b3de69\", TOUCH_FREE: \"#fccde5\", TOUCH_RESOLVING: \"#e0e0e0\"}.values(), name=\"cmap\")\n",
    "    fig, axs = plt.subplots(1, 5, figsize=(15,3*nx/ny))\n",
    "    for i, (title, arr) in enumerate(design_vis.items()):\n",
    "        ax = axs[i]\n",
    "        ax.set_title(title.replace(\"_\", \" \"))\n",
    "        ax.imshow(arr, cmap=_cmap, vmin=UNASSIGNED, vmax=TOUCH_RESOLVING)\n",
    "        ax.set_yticks(jnp.arange(nx)+0.5, [\"\" for i in range(nx)])\n",
    "        ax.set_xticks(jnp.arange(ny)+0.5, [\"\" for i in range(ny)])\n",
    "        ax.set_yticks(jnp.arange(nx), [f\"{i}\" for i in range(nx)], minor=True)\n",
    "        ax.set_xticks(jnp.arange(ny), [f\"{i}\" for i in range(ny)], minor=True)\n",
    "        ax.set_xlim(-0.5, ny-0.5)\n",
    "        ax.set_ylim(nx-0.5, -0.5)\n",
    "        ax.grid(visible=True, which=\"major\", c=\"k\")\n",
    "\n",
    "@patch_to(Design)\n",
    "def _repr_html_(self):\n",
    "    visualize(self)\n",
    "    return \"\""
   ]
  },
  {
   "cell_type": "code",
   "execution_count": null,
   "id": "b791177f-43e1-450c-9a9c-244a31bacb98",
   "metadata": {},
   "outputs": [],
   "source": [
    "new_design((6, 8))"
   ]
  }
 ],
 "metadata": {
  "kernelspec": {
   "display_name": "x",
   "language": "python",
   "name": "x"
  }
 },
 "nbformat": 4,
 "nbformat_minor": 5
}
