{
 "cells": [
  {
   "cell_type": "code",
   "execution_count": null,
   "id": "5e328a8d-c221-4374-98d3-9f41119065c5",
   "metadata": {},
   "outputs": [],
   "source": [
    "# default_exp algorithm"
   ]
  },
  {
   "cell_type": "markdown",
   "id": "603a2587-7c41-4fb8-9cd9-08a0c163b214",
   "metadata": {},
   "source": [
    "# Algorithm\n",
    "> Method by Google X"
   ]
  },
  {
   "cell_type": "code",
   "execution_count": null,
   "id": "90cced79-de37-42bb-a64f-5f1c73fafbc1",
   "metadata": {},
   "outputs": [],
   "source": [
    "# exporti\n",
    "from typing import NamedTuple\n",
    "\n",
    "import jax\n",
    "import jax.numpy as jnp\n",
    "import matplotlib.pyplot as plt\n",
    "from fastcore.basics import patch_to\n",
    "from inverse_design.utils import batch_conv2d, conv2d, dilute\n",
    "from matplotlib.colors import ListedColormap"
   ]
  },
  {
   "cell_type": "code",
   "execution_count": null,
   "id": "24294614-840d-479e-bb99-68c1b55ef9a9",
   "metadata": {},
   "outputs": [],
   "source": [
    "# export\n",
    "UNASSIGNED = 0\n",
    "VOID = 1\n",
    "SOLID = 2\n",
    "PIXEL_IMPOSSIBLE = 3\n",
    "PIXEL_EXISTING = 4\n",
    "PIXEL_POSSIBLE = 5\n",
    "PIXEL_REQUIRED = 6\n",
    "TOUCH_REQUIRED = 7\n",
    "TOUCH_INVALID = 8\n",
    "TOUCH_EXISTING = 9\n",
    "TOUCH_VALID = 10\n",
    "TOUCH_FREE = 11\n",
    "TOUCH_RESOLVING = 12"
   ]
  },
  {
   "cell_type": "code",
   "execution_count": null,
   "id": "bd6136b1-426f-4046-9439-225e1ecebca8",
   "metadata": {},
   "outputs": [],
   "source": [
    "# export\n",
    "class Design(NamedTuple):\n",
    "    design: jnp.ndarray\n",
    "    void_pixels: jnp.ndarray\n",
    "    solid_pixels: jnp.ndarray\n",
    "    void_touches: jnp.ndarray\n",
    "    solid_touches: jnp.ndarray\n",
    "    \n",
    "    @property\n",
    "    def shape(self):\n",
    "        return self.design.shape\n",
    "    \n",
    "    def copy(self, **kwargs):\n",
    "        kwargs = {name: kwargs.get(name, getattr(self, name)) for name in self._fields}\n",
    "        return Design(*kwargs.values())"
   ]
  },
  {
   "cell_type": "code",
   "execution_count": null,
   "id": "af2ff0e9-3cfd-415a-a8ee-9141c74203dc",
   "metadata": {},
   "outputs": [],
   "source": [
    "# export\n",
    "def new_design(shape):\n",
    "    return Design(\n",
    "        design=jnp.zeros(shape, dtype=jnp.uint8).at[:,:].set(UNASSIGNED),\n",
    "        void_pixels=jnp.zeros(shape, dtype=jnp.uint8).at[:,:].set(PIXEL_POSSIBLE),\n",
    "        solid_pixels=jnp.zeros(shape, dtype=jnp.uint8).at[:,:].set(PIXEL_POSSIBLE),\n",
    "        void_touches=jnp.zeros(shape, dtype=jnp.uint8).at[:,:].set(TOUCH_VALID),\n",
    "        solid_touches=jnp.zeros(shape, dtype=jnp.uint8).at[:,:].set(TOUCH_VALID),\n",
    "    )"
   ]
  },
  {
   "cell_type": "code",
   "execution_count": null,
   "id": "ab4222a0-68f7-48e7-98c1-d68c1f44d2cb",
   "metadata": {},
   "outputs": [],
   "source": [
    "# export\n",
    "def circular_brush(diameter):\n",
    "    radius = diameter / 2\n",
    "    X, Y = jnp.mgrid[-radius:radius:1j*diameter,-radius:radius:1j*diameter]\n",
    "    _int = lambda x: jnp.array(x, dtype=int)\n",
    "    brush = _int(X)**2 + _int(Y)**2 < radius**2\n",
    "    return brush"
   ]
  },
  {
   "cell_type": "code",
   "execution_count": null,
   "id": "6519e77f-74af-4ada-ba23-ba4b5e430207",
   "metadata": {},
   "outputs": [],
   "source": [
    "# export\n",
    "def notched_square_brush(width, notch):\n",
    "    Z = jnp.ones((width, width), dtype=bool)\n",
    "    notch = abs(notch)\n",
    "    if notch > 0:\n",
    "        Z = Z.at[:notch,:notch].set(False)\n",
    "        Z = Z.at[:notch,-notch:].set(False)\n",
    "        Z = Z.at[-notch:,:notch].set(False)\n",
    "        Z = Z.at[-notch:,-notch:].set(False)\n",
    "    return Z"
   ]
  },
  {
   "cell_type": "code",
   "execution_count": null,
   "id": "e96e2a19-6924-412f-a34d-3e95c4418cd2",
   "metadata": {},
   "outputs": [],
   "source": [
    "# export\n",
    "def show_mask(brush):\n",
    "    nx, ny = brush.shape\n",
    "    _cmap = ListedColormap(colors={0: \"#ffffff\", 1: \"#929292\"}.values())\n",
    "    ax = plt.gca()\n",
    "    ax.set_yticks(jnp.arange(nx)+0.5, [\"\" for i in range(nx)])\n",
    "    ax.set_xticks(jnp.arange(ny)+0.5, [\"\" for i in range(ny)])\n",
    "    ax.set_yticks(jnp.arange(nx), [f\"{i}\" for i in range(nx)], minor=True)\n",
    "    ax.set_xticks(jnp.arange(ny), [f\"{i}\" for i in range(ny)], minor=True)\n",
    "    plt.grid(True, color='k')\n",
    "    plt.imshow(brush, cmap=_cmap)"
   ]
  },
  {
   "cell_type": "code",
   "execution_count": null,
   "id": "89fc9afa-2e7d-45a0-b8eb-3bb6c34db48d",
   "metadata": {},
   "outputs": [],
   "source": [
    "show_mask(circular_brush(13));"
   ]
  },
  {
   "cell_type": "code",
   "execution_count": null,
   "id": "fc79df6f-bf6a-4a3b-9bd1-21ab64bd637b",
   "metadata": {},
   "outputs": [],
   "source": [
    "show_mask(notched_square_brush(5, 1))"
   ]
  },
  {
   "cell_type": "code",
   "execution_count": null,
   "id": "00bf6ae4-ebd8-4e81-98a3-d26edc42e967",
   "metadata": {},
   "outputs": [],
   "source": [
    "# export\n",
    "def visualize(design):\n",
    "    _cmap = ListedColormap(colors={UNASSIGNED: \"#929292\", VOID: \"#cbcbcb\", SOLID: \"#515151\", PIXEL_IMPOSSIBLE: \"#8dd3c7\", PIXEL_EXISTING: \"#ffffb3\", PIXEL_POSSIBLE: \"#bebada\", PIXEL_REQUIRED: \"#fb7f72\", TOUCH_REQUIRED: \"#00ff00\", TOUCH_INVALID: \"#7fb1d3\", TOUCH_EXISTING: \"#fdb462\", TOUCH_VALID: \"#b3de69\", TOUCH_FREE: \"#fccde5\", TOUCH_RESOLVING: \"#e0e0e0\"}.values(), name=\"cmap\")\n",
    "    nx, ny = design.design.shape\n",
    "    fig, axs = plt.subplots(1, 5, figsize=(15,3*nx/ny))\n",
    "    for i, title in enumerate(design._fields):\n",
    "        ax = axs[i]\n",
    "        ax.set_title(title.replace(\"_\", \" \"))\n",
    "        ax.imshow(design[i], cmap=_cmap, vmin=UNASSIGNED, vmax=TOUCH_RESOLVING)\n",
    "        ax.set_yticks(jnp.arange(nx)+0.5, [\"\" for i in range(nx)])\n",
    "        ax.set_xticks(jnp.arange(ny)+0.5, [\"\" for i in range(ny)])\n",
    "        ax.set_yticks(jnp.arange(nx), [f\"{i}\" for i in range(nx)], minor=True)\n",
    "        ax.set_xticks(jnp.arange(ny), [f\"{i}\" for i in range(ny)], minor=True)\n",
    "        ax.set_xlim(-0.5, ny-0.5)\n",
    "        ax.set_ylim(nx-0.5, -0.5)\n",
    "        ax.grid(visible=True, which=\"major\", c=\"k\")\n",
    "\n",
    "@patch_to(Design)\n",
    "def _repr_html_(self):\n",
    "    visualize(self)\n",
    "    return \"\""
   ]
  },
  {
   "cell_type": "code",
   "execution_count": null,
   "id": "d15fc1f3-aa60-4e23-b61f-09ffabd737f9",
   "metadata": {},
   "outputs": [],
   "source": [
    "my_brush = notched_square_brush(5, 1)\n",
    "show_mask(my_brush)"
   ]
  },
  {
   "cell_type": "code",
   "execution_count": null,
   "id": "66ebe482-d10e-49ac-a20b-17c70b42d9d4",
   "metadata": {},
   "outputs": [],
   "source": [
    "step1 = lambda: new_design((6, 8))\n",
    "step1()"
   ]
  },
  {
   "cell_type": "code",
   "execution_count": null,
   "id": "74d7614d-d1fd-4a51-b193-a77c7d0f6b2d",
   "metadata": {},
   "outputs": [],
   "source": [
    "# export\n",
    "\n",
    "@jax.jit\n",
    "def _find_free_touches(touches_mask, pixels_mask, brush):\n",
    "    r = jnp.zeros_like(touches_mask, dtype=bool)\n",
    "    m, n = r.shape\n",
    "    i, j = jnp.arange(m), jnp.arange(n)\n",
    "    I, J = [idxs.ravel() for idxs in jnp.meshgrid(i, j)]\n",
    "    K = jnp.arange(m * n)\n",
    "    R = jnp.broadcast_to(r[None, :, :], (m * n, m, n)).at[K, I, J].set(True)\n",
    "    Rb = batch_conv2d(R, brush[None]) | pixels_mask\n",
    "    free_idxs = (Rb == pixels_mask).all((1, 2))\n",
    "    free_touches_mask = jnp.where(free_idxs[:, None, None], R, 0).sum(0, dtype=bool)\n",
    "    return free_touches_mask ^ touches_mask\n",
    "\n",
    "\n",
    "@jax.jit\n",
    "def _find_required_pixels(pixel_map, brush):\n",
    "    mask = (~pixel_map) & (~dilute(pixel_map, brush))\n",
    "    return ~(dilute(mask, brush) | pixel_map)\n",
    "\n",
    "\n",
    "@jax.jit\n",
    "def add_void_touch(design, brush, pos):\n",
    "    if isinstance(pos, tuple):\n",
    "        void_touches_mask = design.void_touches.at[pos[0], pos[1]].set(TOUCH_EXISTING) == TOUCH_EXISTING\n",
    "    else:\n",
    "        assert pos.dtype == bool\n",
    "        void_touches_mask = pos | (design.void_touches == TOUCH_EXISTING)\n",
    "    void_pixel_mask = dilute(void_touches_mask, brush) | (design.design == VOID)\n",
    "    required_void_pixel_mask = _find_required_pixels(void_pixel_mask, brush)\n",
    "    diluted_mask = dilute(void_pixel_mask, brush)\n",
    "    design_ = jnp.where(void_pixel_mask, VOID, design.design)\n",
    "    free_void_touches_mask = _find_free_touches(void_touches_mask, void_pixel_mask | required_void_pixel_mask, brush)\n",
    "    void_touches = jnp.where(design.void_touches == TOUCH_RESOLVING, TOUCH_VALID, design.void_touches)\n",
    "    void_touches = jnp.where(void_touches_mask, TOUCH_EXISTING, void_touches)\n",
    "    void_touches = jnp.where(free_void_touches_mask, TOUCH_FREE, void_touches)\n",
    "    resolving_pixels = jnp.where(void_touches == TOUCH_VALID, dilute(required_void_pixel_mask, brush), False)\n",
    "    void_touches = jnp.where(resolving_pixels, TOUCH_RESOLVING, void_touches)\n",
    "    void_pixels = jnp.where(void_pixel_mask, PIXEL_EXISTING, design.void_pixels)\n",
    "    void_pixels = jnp.where(required_void_pixel_mask, PIXEL_REQUIRED, void_pixels)\n",
    "    solid_pixels =  jnp.where(void_pixel_mask, PIXEL_IMPOSSIBLE, design.solid_pixels)\n",
    "    solid_pixels = jnp.where(required_void_pixel_mask, PIXEL_IMPOSSIBLE, solid_pixels)\n",
    "    solid_touches = jnp.where(diluted_mask, TOUCH_INVALID, design.solid_touches)\n",
    "    return Design(design_, void_pixels, solid_pixels, void_touches, solid_touches)"
   ]
  },
  {
   "cell_type": "code",
   "execution_count": null,
   "id": "4a9c1fde-5290-4a09-8e16-002453fee04a",
   "metadata": {},
   "outputs": [],
   "source": [
    "step2 = lambda: add_void_touch(step1(), my_brush, (0, 6))\n",
    "step2()"
   ]
  },
  {
   "cell_type": "code",
   "execution_count": null,
   "id": "2defd870-1f53-45ff-bb92-62cb48fdabd4",
   "metadata": {},
   "outputs": [],
   "source": [
    "# export\n",
    "@jax.jit\n",
    "def take_free_void_touches(design, brush):\n",
    "    # originally: \n",
    "    # design = design.copy(void_touches=jnp.where(design.void_touches == TOUCH_FREE, TOUCH_EXISTING, design.void_touches))\n",
    "    # ⬆ the above solution is not good. It does not resolve required touches if present, we need to actually use the brush:\n",
    "    return add_void_touch(design, brush, (design.void_touches == TOUCH_FREE))"
   ]
  },
  {
   "cell_type": "code",
   "execution_count": null,
   "id": "18948be2-7360-4f6e-a6a8-b7622423fcc5",
   "metadata": {},
   "outputs": [],
   "source": [
    "step3 = lambda: take_free_void_touches(step2(), my_brush)\n",
    "step3()"
   ]
  },
  {
   "cell_type": "code",
   "execution_count": null,
   "id": "e1afa3c5-f47f-4179-b1cc-e11b4e8b625c",
   "metadata": {},
   "outputs": [],
   "source": [
    "# export\n",
    "\n",
    "@jax.jit\n",
    "def add_solid_touch(design, brush, pos):\n",
    "    if isinstance(pos, tuple):\n",
    "        solid_touches_mask = design.solid_touches.at[pos[0], pos[1]].set(TOUCH_EXISTING) == TOUCH_EXISTING\n",
    "    else:\n",
    "        assert pos.dtype == bool\n",
    "        solid_touches_mask = pos | (design.solid_touches == TOUCH_EXISTING)\n",
    "    solid_pixel_mask = dilute(solid_touches_mask, brush) | (design.design == SOLID)\n",
    "    required_solid_pixel_mask = _find_required_pixels(solid_pixel_mask, brush)\n",
    "    diluted_mask = dilute(solid_pixel_mask, brush)\n",
    "    design_ = jnp.where(solid_pixel_mask, SOLID, design.design)\n",
    "    free_solid_touches_mask = _find_free_touches(solid_touches_mask, solid_pixel_mask | required_solid_pixel_mask, brush)\n",
    "    solid_touches = jnp.where(design.solid_touches == TOUCH_RESOLVING, TOUCH_VALID, design.solid_touches)\n",
    "    solid_touches = jnp.where(solid_touches_mask, TOUCH_EXISTING, solid_touches)\n",
    "    solid_touches = jnp.where(free_solid_touches_mask, TOUCH_FREE, solid_touches)\n",
    "    resolving_pixels = jnp.where(solid_touches == TOUCH_VALID, dilute(required_solid_pixel_mask, brush), False)\n",
    "    solid_touches = jnp.where(resolving_pixels, TOUCH_RESOLVING, solid_touches)\n",
    "    solid_pixels = jnp.where(solid_pixel_mask, PIXEL_EXISTING, design.solid_pixels)\n",
    "    solid_pixels = jnp.where(required_solid_pixel_mask, PIXEL_REQUIRED, solid_pixels)\n",
    "    void_pixels =  jnp.where(solid_pixel_mask, PIXEL_IMPOSSIBLE, design.void_pixels)\n",
    "    void_pixels = jnp.where(required_solid_pixel_mask, PIXEL_IMPOSSIBLE, void_pixels)\n",
    "    void_touches = jnp.where(diluted_mask, TOUCH_INVALID, design.void_touches)\n",
    "    return Design(design_, void_pixels, solid_pixels, void_touches, solid_touches)"
   ]
  },
  {
   "cell_type": "code",
   "execution_count": null,
   "id": "2e89df8d-a61c-4e71-8aef-a5aa92f9406b",
   "metadata": {},
   "outputs": [],
   "source": [
    "step4 = lambda: add_solid_touch(step3(), my_brush, (0, 0))\n",
    "step4()"
   ]
  },
  {
   "cell_type": "code",
   "execution_count": null,
   "id": "f4e5b192-e6fd-4777-ad6b-f1356e316df4",
   "metadata": {},
   "outputs": [],
   "source": [
    "step5 = lambda: add_void_touch(step4(), my_brush, (4, 6))\n",
    "step5()"
   ]
  },
  {
   "cell_type": "code",
   "execution_count": null,
   "id": "b880b8c4-4c1f-4c8c-8dbe-0e55c95f9b8b",
   "metadata": {},
   "outputs": [],
   "source": [
    "step6 = lambda: take_free_void_touches(step5(), my_brush)\n",
    "step6()"
   ]
  },
  {
   "cell_type": "code",
   "execution_count": null,
   "id": "04a49611-5659-4dba-86e8-c450e0f2c5a8",
   "metadata": {},
   "outputs": [],
   "source": [
    "step7 = lambda: add_void_touch(step6(), my_brush, (4, 4))\n",
    "step7()"
   ]
  },
  {
   "cell_type": "code",
   "execution_count": null,
   "id": "3267571d-64a1-473f-9884-64d1cf36efe2",
   "metadata": {},
   "outputs": [],
   "source": [
    "step8 = lambda: take_free_void_touches(step7(), my_brush)\n",
    "step8()"
   ]
  },
  {
   "cell_type": "code",
   "execution_count": null,
   "id": "a37eb157-61c3-45e4-8fd0-57a297d529ed",
   "metadata": {},
   "outputs": [],
   "source": [
    "step9 = lambda: add_void_touch(step8(), my_brush, (5, 0))\n",
    "step9()"
   ]
  },
  {
   "cell_type": "code",
   "execution_count": null,
   "id": "7a3a5c23-ed2d-4e94-8d30-c77771be75d8",
   "metadata": {},
   "outputs": [],
   "source": [
    "step10 = lambda: take_free_void_touches(step9(), my_brush)\n",
    "step10()"
   ]
  },
  {
   "cell_type": "code",
   "execution_count": null,
   "id": "12ac3e06-1204-470b-8087-e93dca441447",
   "metadata": {},
   "outputs": [],
   "source": [
    "step11 = lambda: add_void_touch(step10(), my_brush, (2, 5))\n",
    "step11()"
   ]
  },
  {
   "cell_type": "code",
   "execution_count": null,
   "id": "51670fb0-5967-4b6c-9e90-d8ff3bf2b73f",
   "metadata": {},
   "outputs": [],
   "source": [
    "step12 = lambda: take_free_void_touches(step11(), my_brush)\n",
    "step12()"
   ]
  }
 ],
 "metadata": {
  "kernelspec": {
   "display_name": "x",
   "language": "python",
   "name": "x"
  }
 },
 "nbformat": 4,
 "nbformat_minor": 5
}
