{
 "cells": [
  {
   "cell_type": "code",
   "execution_count": 237,
   "id": "c08c16e0",
   "metadata": {},
   "outputs": [],
   "source": [
    "import ceviche_challenges\n",
    "from ceviche_challenges import units as u\n",
    "from ceviche_challenges.model_base import _wavelengths_nm_to_omegas\n",
    "\n",
    "from ceviche import viz, fdfd_ez\n",
    "from ceviche import jacobian\n",
    "\n",
    "import autograd\n",
    "import autograd.numpy as npa\n",
    "import jax\n",
    "import jax.numpy as jnp\n",
    "\n",
    "import numpy as np\n",
    "import matplotlib.pyplot as plt"
   ]
  },
  {
   "cell_type": "code",
   "execution_count": 238,
   "id": "be791c7a",
   "metadata": {},
   "outputs": [],
   "source": [
    "from inverse_design.brushes import notched_square_brush, circular_brush\n",
    "from inverse_design.conditional_generator import (\n",
    "    new_latent_design, transform\n",
    ")\n",
    "from tqdm.notebook import trange\n",
    "\n",
    "from javiche import jaxit\n",
    "\n",
    "from inverse_design.local_generator import generate_feasible_design_mask\n",
    "from jax.example_libraries.optimizers import adam"
   ]
  },
  {
   "cell_type": "markdown",
   "id": "8aba19d4",
   "metadata": {},
   "source": [
    "# Define the problem using ceviche_challenges"
   ]
  },
  {
   "cell_type": "code",
   "execution_count": 239,
   "id": "6cdd6557",
   "metadata": {},
   "outputs": [],
   "source": [
    "spec = ceviche_challenges.waveguide_bend.prefabs.waveguide_bend_2umx2um_spec(\n",
    "    wg_width=400*u.nm, variable_region_size=(1600*u.nm, 1600*u.nm), cladding_permittivity=2.25\n",
    ")\n",
    "params = ceviche_challenges.waveguide_bend.prefabs.waveguide_bend_sim_params(resolution = 10 * u.nm,\n",
    "                                                                             wavelengths=u.Array([1280,], u.nm))\n",
    "                                                                             #wavelengths=u.Array([1270, 1290], u.nm))\n",
    "model = ceviche_challenges.waveguide_bend.model.WaveguideBendModel(params, spec)"
   ]
  },
  {
   "cell_type": "markdown",
   "id": "cdb4d640",
   "metadata": {},
   "source": [
    "# Define the optimization function"
   ]
  },
  {
   "cell_type": "code",
   "execution_count": 240,
   "id": "4b8be9a0",
   "metadata": {},
   "outputs": [],
   "source": [
    "def db_to_au(x):\n",
    "    return npa.power(10, x / 10)\n",
    "\n",
    "S_cutoff_dB = npa.array([-20., -0.5])\n",
    "S_cutoff = db_to_au(S_cutoff_dB)\n",
    "g = npa.array([-1 if x < S_cutoff.max() else +1 for x in S_cutoff])\n",
    "w_valid = npa.array([x if x < S_cutoff.max() else 1-x for x in S_cutoff])\n",
    "\n",
    "min_w = jnp.min(w_valid)"
   ]
  },
  {
   "cell_type": "code",
   "execution_count": 241,
   "id": "62d669ee",
   "metadata": {},
   "outputs": [],
   "source": [
    "def plot_state(model, rho, grads):\n",
    "    des = forward(rho, brush)\n",
    "    \n",
    "    _, E_12 = model.simulate(des, excite_port_idxs=[0])\n",
    "    _, E_21 = model.simulate(des, excite_port_idxs=[1])\n",
    "\n",
    "    E_12 = E_12.squeeze()\n",
    "    E_21 = E_21.squeeze()\n",
    "    \n",
    "    fig, ax = plt.subplots(1,5, figsize=(5*4,4))\n",
    "    viz.abs(E_12, outline=model.density(des), ax=ax[0]);\n",
    "    viz.abs(E_21, outline=model.density(des), ax=ax[1]);\n",
    "    viz.real(grads, ax=ax[2]);\n",
    "    ax[3].imshow(grads.T)\n",
    "    #viz.real(ez_in * np.conj(ez_out), outline=model.density(np.asarray(design)), ax=ax[2]);\n",
    "    #viz.real(ez_in * ez_out, outline=model.density(np.asarray(design)), ax=ax[3]);\n",
    "    #viz.real((Ez_source.squeeze() * Ez_probe.squeeze()).T, outline=model.density(np.asarray(design)), ax=ax[4]);\n",
    "    plt.show()"
   ]
  },
  {
   "cell_type": "code",
   "execution_count": 242,
   "id": "401ae0ac",
   "metadata": {},
   "outputs": [],
   "source": [
    "rho = jnp.ones(model.design_region_shape)\n",
    "s_params, fields = model.simulate(rho)"
   ]
  },
  {
   "cell_type": "code",
   "execution_count": 243,
   "id": "331e0a3a",
   "metadata": {
    "scrolled": true
   },
   "outputs": [
    {
     "data": {
      "text/plain": [
       "(array([[[-0.20480596-0.21891126j, -0.07551151+0.00037407j]]]), (1, 1, 2))"
      ]
     },
     "execution_count": 243,
     "metadata": {},
     "output_type": "execute_result"
    }
   ],
   "source": [
    "s_params, s_params.shape"
   ]
  },
  {
   "cell_type": "code",
   "execution_count": 244,
   "id": "dbba827c",
   "metadata": {},
   "outputs": [
    {
     "data": {
      "text/plain": [
       "Array(253.30588, dtype=float32)"
      ]
     },
     "execution_count": 244,
     "metadata": {},
     "output_type": "execute_result"
    }
   ],
   "source": [
    "loss_function(s_params)"
   ]
  },
  {
   "cell_type": "code",
   "execution_count": 245,
   "id": "4a1b80e2",
   "metadata": {},
   "outputs": [],
   "source": [
    "@jaxit()\n",
    "def objective_S(rho):\n",
    "    s_params, fields = model.simulate(rho)\n",
    "    \n",
    "    return s_params\n",
    "\n",
    "def loss_function(S):\n",
    "    s11 = jnp.abs(S[:, 0, 0])**2\n",
    "    s21 = jnp.abs(S[:, 0, 1])**2\n",
    "\n",
    "    s = jnp.stack((s11,s21))\n",
    "    g = jnp.stack((jnp.ones_like(s11),-jnp.ones_like(s21)))\n",
    "\n",
    "    t_s21 = 10**(-0.5/20)\n",
    "    t_s11 = 10**(-20/20)\n",
    "\n",
    "    target = jnp.stack((jnp.ones_like(s11)*(t_s11**2),jnp.ones_like(s21)*(t_s21**2)))\n",
    "    w_min = min(1-t_s21, t_s11)\n",
    "    L = jnp.sum(jax.nn.softplus(g*(s-target)/w_min)**2)\n",
    "    \n",
    "    return L"
   ]
  },
  {
   "cell_type": "code",
   "execution_count": 246,
   "id": "e340cbdc",
   "metadata": {
    "scrolled": true
   },
   "outputs": [
    {
     "name": "stdout",
     "output_type": "stream",
     "text": [
      "253.30588\n"
     ]
    }
   ],
   "source": [
    "print(loss_function(s_params))\n",
    "if s_params.shape[0] > 1:\n",
    "    print(loss_function(jnp.expand_dims(s_params[0],axis=0)) + loss_function(jnp.expand_dims(s_params[1],axis=0)))"
   ]
  },
  {
   "cell_type": "markdown",
   "id": "6cfd781a",
   "metadata": {},
   "source": [
    "# Then, the inverse design aka the conditional generator part"
   ]
  },
  {
   "cell_type": "code",
   "execution_count": 247,
   "id": "9f9c9884",
   "metadata": {},
   "outputs": [],
   "source": [
    "def forward(latent_weights, brush):\n",
    "    latent_t = transform(latent_weights, brush) #.reshape((Nx, Ny))\n",
    "    design_mask = generate_feasible_design_mask(latent_t, \n",
    "      brush, verbose=False)\n",
    "    design = (design_mask+1.0)/2.0\n",
    "    return design"
   ]
  },
  {
   "cell_type": "code",
   "execution_count": 248,
   "id": "8821d3f5",
   "metadata": {},
   "outputs": [],
   "source": [
    "brush = circular_brush(11)\n",
    "latent = new_latent_design(model.design_variable_shape, bias=0.95, r=1, r_scale=1e-3)"
   ]
  },
  {
   "cell_type": "code",
   "execution_count": 249,
   "id": "558e2eea",
   "metadata": {},
   "outputs": [],
   "source": [
    "def loss_fn(latent):\n",
    "    design = forward(latent, brush)\n",
    "    S = objective_S(design)\n",
    "    return loss_function(S)"
   ]
  },
  {
   "cell_type": "code",
   "execution_count": 250,
   "id": "39065c88",
   "metadata": {},
   "outputs": [],
   "source": [
    "def loss_no_gen(design):\n",
    "    S = objective_S(design)\n",
    "    return loss_function(S)\n",
    "loss_fn = loss_no_gen"
   ]
  },
  {
   "cell_type": "markdown",
   "id": "c1f54415",
   "metadata": {},
   "source": [
    "# Now we define the optimization"
   ]
  },
  {
   "cell_type": "code",
   "execution_count": 251,
   "id": "76ec75c9",
   "metadata": {},
   "outputs": [],
   "source": [
    "# Number of epochs in the optimization\n",
    "Nsteps = 150\n",
    "# Parameters for the Adam optimizer\n",
    "step_size = 0.01\n",
    "beta1 = 0.667\n",
    "beta2 = 0.9"
   ]
  },
  {
   "cell_type": "code",
   "execution_count": 252,
   "id": "6dac1512",
   "metadata": {},
   "outputs": [],
   "source": [
    "grad_fn = jax.grad(loss_fn)\n",
    "\n",
    "init_fn, update_fn, params_fn = adam(step_size, beta1, beta2)\n",
    "state = init_fn(latent) #.flatten()\n",
    "#value_and_grad seems to have a problem. Figure out why!\n",
    "\n",
    "def step_fn(step, state):\n",
    "    latent = params_fn(state) # we need autograd arrays here...\n",
    "    grads = grad_fn(latent)\n",
    "    loss = loss_fn(latent)\n",
    "\n",
    "    optim_state = update_fn(step, grads, state)\n",
    "    # optim_latent = params_fn(optim_state)\n",
    "    # optim_latent = optim_latent/optim_latent.std()\n",
    "    # plot_state(model, latent, grads)\n",
    "    \n",
    "    return loss, optim_state"
   ]
  },
  {
   "cell_type": "code",
   "execution_count": 253,
   "id": "f2d3464b",
   "metadata": {},
   "outputs": [],
   "source": [
    "init_fn, update_fn, params_fn = adam(step_size, beta1, beta2)\n",
    "state = init_fn(npa.array(latent))\n",
    "\n",
    "latent = params_fn(state)\n",
    "grads = grad_fn(jnp.array(latent))"
   ]
  },
  {
   "cell_type": "code",
   "execution_count": 254,
   "id": "728e5abe",
   "metadata": {
    "scrolled": true
   },
   "outputs": [
    {
     "data": {
      "application/vnd.jupyter.widget-view+json": {
       "model_id": "444f7b591bd045df9e98fa76e1c0d0a0",
       "version_major": 2,
       "version_minor": 0
      },
      "text/plain": [
       "  0%|          | 0/150 [00:00<?, ?it/s]"
      ]
     },
     "metadata": {},
     "output_type": "display_data"
    },
    {
     "name": "stdout",
     "output_type": "stream",
     "text": [
      "Step : 1 / 150\n",
      "Step : 2 / 150\n",
      "Step : 3 / 150\n",
      "Step : 4 / 150\n",
      "Step : 5 / 150\n",
      "Step : 6 / 150\n",
      "Step : 7 / 150\n",
      "Step : 8 / 150\n",
      "Step : 9 / 150\n",
      "Step : 10 / 150\n",
      "Step : 11 / 150\n",
      "Step : 12 / 150\n",
      "Step : 13 / 150\n",
      "Step : 14 / 150\n",
      "Step : 15 / 150\n",
      "Step : 16 / 150\n",
      "Step : 17 / 150\n",
      "Step : 18 / 150\n",
      "Step : 19 / 150\n",
      "Step : 20 / 150\n",
      "Step : 21 / 150\n",
      "Step : 22 / 150\n",
      "Step : 23 / 150\n",
      "Step : 24 / 150\n",
      "Step : 25 / 150\n",
      "Step : 26 / 150\n",
      "Step : 27 / 150\n",
      "Step : 28 / 150\n",
      "Step : 29 / 150\n",
      "Step : 30 / 150\n",
      "Step : 31 / 150\n",
      "Step : 32 / 150\n",
      "Step : 33 / 150\n",
      "Step : 34 / 150\n",
      "Step : 35 / 150\n",
      "Step : 36 / 150\n",
      "Step : 37 / 150\n",
      "Step : 38 / 150\n",
      "Step : 39 / 150\n",
      "Step : 40 / 150\n",
      "Step : 41 / 150\n",
      "Step : 42 / 150\n",
      "Step : 43 / 150\n",
      "Step : 44 / 150\n",
      "Step : 45 / 150\n",
      "Step : 46 / 150\n",
      "Step : 47 / 150\n",
      "Step : 48 / 150\n",
      "Step : 49 / 150\n",
      "Step : 50 / 150\n",
      "Step : 51 / 150\n",
      "Step : 52 / 150\n",
      "Step : 53 / 150\n",
      "Step : 54 / 150\n",
      "Step : 55 / 150\n",
      "Step : 56 / 150\n",
      "Step : 57 / 150\n",
      "Step : 58 / 150\n",
      "Step : 59 / 150\n",
      "Step : 60 / 150\n",
      "Step : 61 / 150\n",
      "Step : 62 / 150\n",
      "Step : 63 / 150\n",
      "Step : 64 / 150\n",
      "Step : 65 / 150\n",
      "Step : 66 / 150\n",
      "Step : 67 / 150\n",
      "Step : 68 / 150\n",
      "Step : 69 / 150\n",
      "Step : 70 / 150\n",
      "Step : 71 / 150\n",
      "Step : 72 / 150\n",
      "Step : 73 / 150\n",
      "Step : 74 / 150\n",
      "Step : 75 / 150\n",
      "Step : 76 / 150\n",
      "Step : 77 / 150\n",
      "Step : 78 / 150\n",
      "Step : 79 / 150\n",
      "Step : 80 / 150\n",
      "Step : 81 / 150\n",
      "Step : 82 / 150\n",
      "Step : 83 / 150\n",
      "Step : 84 / 150\n",
      "Step : 85 / 150\n",
      "Step : 86 / 150\n",
      "Step : 87 / 150\n",
      "Step : 88 / 150\n",
      "Step : 89 / 150\n",
      "Step : 90 / 150\n",
      "Step : 91 / 150\n",
      "Step : 92 / 150\n",
      "Step : 93 / 150\n",
      "Step : 94 / 150\n",
      "Step : 95 / 150\n",
      "Step : 96 / 150\n",
      "Step : 97 / 150\n",
      "Step : 98 / 150\n",
      "Step : 99 / 150\n",
      "Step : 100 / 150\n",
      "Step : 101 / 150\n",
      "Step : 102 / 150\n",
      "Step : 103 / 150\n",
      "Step : 104 / 150\n",
      "Step : 105 / 150\n",
      "Step : 106 / 150\n",
      "Step : 107 / 150\n",
      "Step : 108 / 150\n",
      "Step : 109 / 150\n",
      "Step : 110 / 150\n",
      "Step : 111 / 150\n",
      "Step : 112 / 150\n",
      "Step : 113 / 150\n",
      "Step : 114 / 150\n",
      "Step : 115 / 150\n",
      "Step : 116 / 150\n",
      "Step : 117 / 150\n",
      "Step : 118 / 150\n",
      "Step : 119 / 150\n",
      "Step : 120 / 150\n",
      "Step : 121 / 150\n",
      "Step : 122 / 150\n",
      "Step : 123 / 150\n",
      "Step : 124 / 150\n",
      "Step : 125 / 150\n",
      "Step : 126 / 150\n",
      "Step : 127 / 150\n",
      "Step : 128 / 150\n",
      "Step : 129 / 150\n",
      "Step : 130 / 150\n",
      "Step : 131 / 150\n",
      "Step : 132 / 150\n",
      "Step : 133 / 150\n",
      "Step : 134 / 150\n",
      "Step : 135 / 150\n",
      "Step : 136 / 150\n",
      "Step : 137 / 150\n",
      "Step : 138 / 150\n",
      "Step : 139 / 150\n",
      "Step : 140 / 150\n",
      "Step : 141 / 150\n",
      "Step : 142 / 150\n",
      "Step : 143 / 150\n",
      "Step : 144 / 150\n",
      "Step : 145 / 150\n",
      "Step : 146 / 150\n",
      "Step : 147 / 150\n",
      "Step : 148 / 150\n",
      "Step : 149 / 150\n",
      "Step : 150 / 150\n"
     ]
    },
    {
     "data": {
      "image/png": "[encoded data removed]",
      "text/plain": [
       "<Figure size 640x480 with 1 Axes>"
      ]
     },
     "metadata": {},
     "output_type": "display_data"
    }
   ],
   "source": [
    "#|eval:false\n",
    "range_ = trange(Nsteps)\n",
    "losses = np.ndarray(Nsteps)\n",
    "for step in range_:\n",
    "    print(\"Step :\", step+1, '/', Nsteps)\n",
    "    loss, state = step_fn(step, state)\n",
    "    losses[step] = loss\n",
    "    range_.set_postfix(loss=float(loss))\n",
    "\n",
    "plt.semilogy(np.arange(Nsteps), losses/np.max(losses));\n",
    "plt.xlabel(\"Step\")\n",
    "plt.ylabel(\"Normalized loss\")\n",
    "plt.grid(True)"
   ]
  },
  {
   "cell_type": "code",
   "execution_count": 231,
   "id": "475252ab",
   "metadata": {},
   "outputs": [],
   "source": [
    "def loss_function(S):\n",
    "    s11 = jnp.abs(S[:, 0, 0])**2\n",
    "    s21 = jnp.abs(S[:, 0, 1])**2\n",
    "\n",
    "    s = jnp.stack((s11,s21))\n",
    "    g = jnp.stack((jnp.ones_like(s11),-jnp.ones_like(s21)))\n",
    "\n",
    "    t_s21 = 10**(-0.5/20)\n",
    "    t_s11 = 10**(-20/20)\n",
    "\n",
    "    target = jnp.stack((jnp.ones_like(s11)*(t_s11**2),jnp.ones_like(s21)*(t_s21**2)))\n",
    "    w_min = min(1-t_s21, t_s11)\n",
    "    L = jnp.sum(jax.nn.softplus(g*(s-target)/w_min)**2)\n",
    "    \n",
    "    return L"
   ]
  },
  {
   "cell_type": "code",
   "execution_count": 232,
   "id": "4fc9e1f1",
   "metadata": {},
   "outputs": [
    {
     "name": "stdout",
     "output_type": "stream",
     "text": [
      "254.21458\n"
     ]
    }
   ],
   "source": [
    "s_test = jnp.zeros((1,1,2))\n",
    "s11_paper = -18\n",
    "s21_paper = -27\n",
    "\n",
    "s_test = s_test.at[0,0,:].set(10 ** (jnp.array([s11_paper, s21_paper]) / 10))\n",
    "loss_ini = loss_function(s_test)\n",
    "print(loss_ini)"
   ]
  },
  {
   "cell_type": "code",
   "execution_count": 233,
   "id": "fff45d1e",
   "metadata": {},
   "outputs": [
    {
     "name": "stdout",
     "output_type": "stream",
     "text": [
      "0.4464373\n"
     ]
    }
   ],
   "source": [
    "s_test = jnp.zeros((1,1,2))\n",
    "s11_paper = -50\n",
    "s21_paper = -0.1\n",
    "\n",
    "s_test = s_test.at[0,0,:].set(10 ** (jnp.array([s11_paper, s21_paper]) / 10))\n",
    "loss_final = loss_function(s_test)\n",
    "print(loss_final)"
   ]
  },
  {
   "cell_type": "code",
   "execution_count": 234,
   "id": "ddf21b1e",
   "metadata": {},
   "outputs": [
    {
     "name": "stdout",
     "output_type": "stream",
     "text": [
      "0.38725692\n"
     ]
    }
   ],
   "source": [
    "s_test = jnp.zeros((1,1,2))\n",
    "s11_paper = -200\n",
    "s21_paper = 0\n",
    "\n",
    "s_test = s_test.at[0,0,:].set(10 ** (jnp.array([s11_paper, s21_paper]) / 10))\n",
    "loss_final = loss_function(s_test)\n",
    "print(loss_final)"
   ]
  },
  {
   "cell_type": "code",
   "execution_count": 235,
   "id": "94062df1",
   "metadata": {},
   "outputs": [
    {
     "name": "stdout",
     "output_type": "stream",
     "text": [
      "0.0015233465 1.5233465237542987e-3 -2.8172014\n"
     ]
    }
   ],
   "source": [
    "print(loss_final / loss_ini, np.format_float_scientific(loss_final / loss_ini, exp_digits=1), np.log10(loss_final / loss_ini))"
   ]
  },
  {
   "cell_type": "code",
   "execution_count": 255,
   "id": "395f31a8",
   "metadata": {
    "scrolled": true
   },
   "outputs": [
    {
     "name": "stdout",
     "output_type": "stream",
     "text": [
      "[254.74305725 251.51348877 243.39283752 229.73492432 211.2076416\n",
      " 189.1756897  165.2809906  141.03013611 117.63607788  96.04902649\n",
      "  76.94075012  60.66692734  47.26931381  36.53749084  28.11236954\n",
      "  21.59044266  16.59385109  12.79877377   9.93812656   7.79487181\n",
      "   6.1946764    4.99995899   4.10460615   3.42868114   2.91318655\n",
      "   2.51521301   2.2037878    1.95664549   1.75773239   1.59542251\n",
      "   1.46122432   1.34888506   1.25375891   1.17235076   1.10200834\n",
      "   1.04069769   0.98684025   0.93919981   0.89679551   0.85884559\n",
      "   0.82471371   0.79388177   0.76591974   0.74047214   0.7172395\n",
      "   0.69596958   0.67644399   0.65847671   0.64190876   0.62659907\n",
      "   0.61242616   0.5992834    0.58707416   0.57571673   0.56513596\n",
      "   0.55526453   0.54604369   0.53742021   0.52934587   0.52177739\n",
      "   0.51467592   0.50800502   0.50173306   0.49583119   0.49027222\n",
      "   0.48503163   0.4800874    0.47541925   0.47100791   0.46683723\n",
      "   0.46289012   0.45915222   0.45561099   0.4522534    0.44906801\n",
      "   0.44604421   0.44317257   0.44044378   0.43784899   0.43538091\n",
      "   0.43303218   0.43079585   0.42866606   0.42663652   0.42470163\n",
      "   0.42285666   0.42109704   0.41941798   0.41781527   0.41628563\n",
      "   0.4148249    0.41342986   0.41209769   0.41082519   0.40960953\n",
      "   0.40844846   0.40733945   0.4062801    0.40526876   0.40430304\n",
      "   0.40338135   0.40250206   0.40166339   0.40086415   0.40010279\n",
      "   0.39937785   0.39868838   0.39803302   0.39741075   0.39682057\n",
      "   0.39626163   0.39573279   0.39523324   0.39476201   0.39431843\n",
      "   0.39390147   0.39351037   0.39314434   0.39280239   0.39248365\n",
      "   0.39218742   0.39191246   0.39165813   0.39142326   0.39120674\n",
      "   0.39100775   0.39082509   0.39065772   0.3905049    0.39037496\n",
      "   0.39047009   0.39400011   0.40397152   0.39329919   0.39346471\n",
      "   0.39345887   0.39076373   0.39228103   0.38992453   0.39080828\n",
      "   0.38999206   0.38982379   0.39004764   0.38965273   0.38965362\n",
      "   0.38987792   0.39055485   0.39350241   0.39561141   0.39071292]\n"
     ]
    }
   ],
   "source": [
    "print(losses)"
   ]
  },
  {
   "cell_type": "code",
   "execution_count": 256,
   "id": "8005b500",
   "metadata": {
    "scrolled": true
   },
   "outputs": [
    {
     "name": "stdout",
     "output_type": "stream",
     "text": [
      "[1.         0.98732225 0.95544444 0.90182997 0.82910068 0.74261372\n",
      " 0.64881451 0.55361719 0.46178325 0.37704276 0.30203277 0.23814948\n",
      " 0.18555683 0.1434288  0.11035578 0.0847538  0.06513956 0.05024189\n",
      " 0.03901235 0.03059896 0.02431735 0.01962746 0.01611273 0.01345937\n",
      " 0.01143578 0.00987353 0.00865102 0.00768086 0.00690002 0.00626287\n",
      " 0.00573607 0.00529508 0.00492166 0.00460209 0.00432596 0.00408528\n",
      " 0.00387387 0.00368685 0.00352039 0.00337142 0.00323743 0.0031164\n",
      " 0.00300664 0.00290674 0.00281554 0.00273205 0.0026554  0.00258487\n",
      " 0.00251983 0.00245973 0.00240409 0.0023525  0.00230457 0.00225999\n",
      " 0.00221845 0.0021797  0.00214351 0.00210966 0.00207796 0.00204825\n",
      " 0.00202037 0.00199419 0.00196957 0.0019464  0.00192458 0.001904\n",
      " 0.00188459 0.00186627 0.00184895 0.00183258 0.00181709 0.00180241\n",
      " 0.00178851 0.00177533 0.00176283 0.00175096 0.00173968 0.00172897\n",
      " 0.00171879 0.0017091  0.00169988 0.0016911  0.00168274 0.00167477\n",
      " 0.00166718 0.00165993 0.00165303 0.00164644 0.00164014 0.00163414\n",
      " 0.00162841 0.00162293 0.0016177  0.0016127  0.00160793 0.00160337\n",
      " 0.00159902 0.00159486 0.00159089 0.0015871  0.00158348 0.00158003\n",
      " 0.00157674 0.0015736  0.00157061 0.00156777 0.00156506 0.00156249\n",
      " 0.00156005 0.00155773 0.00155553 0.00155346 0.0015515  0.00154965\n",
      " 0.00154791 0.00154627 0.00154473 0.0015433  0.00154196 0.0015407\n",
      " 0.00153954 0.00153846 0.00153746 0.00153654 0.00153569 0.00153491\n",
      " 0.00153419 0.00153354 0.00153294 0.00153243 0.0015328  0.00154666\n",
      " 0.0015858  0.00154391 0.00154456 0.00154453 0.00153395 0.00153991\n",
      " 0.00153066 0.00153413 0.00153092 0.00153026 0.00153114 0.00152959\n",
      " 0.00152959 0.00153048 0.00153313 0.0015447  0.00155298 0.00153375]\n"
     ]
    }
   ],
   "source": [
    "print(np.array(losses)/np.array(losses).max())"
   ]
  },
  {
   "cell_type": "code",
   "execution_count": 155,
   "id": "bc27a3e4",
   "metadata": {},
   "outputs": [
    {
     "data": {
      "text/plain": [
       "'7.93550663252049e-4'"
      ]
     },
     "execution_count": 155,
     "metadata": {},
     "output_type": "execute_result"
    }
   ],
   "source": [
    "val = np.array(losses/2)/np.array(losses).max()\n",
    "np.format_float_scientific(val[-1], exp_digits=1)"
   ]
  },
  {
   "cell_type": "code",
   "execution_count": 40,
   "id": "0e259644",
   "metadata": {
    "scrolled": true
   },
   "outputs": [
    {
     "data": {
      "text/plain": [
       "<matplotlib.image.AxesImage at 0x7f534c6335d0>"
      ]
     },
     "execution_count": 40,
     "metadata": {},
     "output_type": "execute_result"
    },
    {
     "data": {
      "image/png": "[encoded data removed]",
      "text/plain": [
       "<Figure size 640x480 with 2 Axes>"
      ]
     },
     "metadata": {},
     "output_type": "display_data"
    }
   ],
   "source": [
    "fig, ax = plt.subplots(1,2)\n",
    "ax[0].imshow(model.epsilon_r(params_fn(state)), origin='lower', cmap='magma')\n",
    "ax[1].imshow(model.epsilon_r(forward(params_fn(state), brush)), origin='lower', cmap='magma')"
   ]
  },
  {
   "cell_type": "code",
   "execution_count": 41,
   "id": "d2ca3012",
   "metadata": {
    "scrolled": false
   },
   "outputs": [
    {
     "data": {
      "image/png": "[encoded data removed]",
      "text/plain": [
       "<Figure size 640x480 with 1 Axes>"
      ]
     },
     "metadata": {},
     "output_type": "display_data"
    }
   ],
   "source": [
    "plt.semilogy(np.arange(Nsteps), losses/np.max(losses));\n",
    "plt.xlabel(\"Step\")\n",
    "plt.ylabel(\"Normalized loss\")\n",
    "plt.grid(True)"
   ]
  },
  {
   "cell_type": "code",
   "execution_count": 17,
   "id": "89ce0025",
   "metadata": {},
   "outputs": [
    {
     "ename": "NameError",
     "evalue": "name 'loss10' is not defined",
     "output_type": "error",
     "traceback": [
      "\u001b[0;31m---------------------------------------------------------------------------\u001b[0m",
      "\u001b[0;31mNameError\u001b[0m                                 Traceback (most recent call last)",
      "Cell \u001b[0;32mIn[17], line 1\u001b[0m\n\u001b[0;32m----> 1\u001b[0m plt\u001b[38;5;241m.\u001b[39msemilogy(np\u001b[38;5;241m.\u001b[39marange(Nsteps), \u001b[43mloss10\u001b[49m\u001b[38;5;241m/\u001b[39mnp\u001b[38;5;241m.\u001b[39mmax(loss10), label\u001b[38;5;241m=\u001b[39m\u001b[38;5;124m\"\u001b[39m\u001b[38;5;124m10**(-x/10)\u001b[39m\u001b[38;5;124m\"\u001b[39m);\n\u001b[1;32m      2\u001b[0m plt\u001b[38;5;241m.\u001b[39msemilogy(np\u001b[38;5;241m.\u001b[39marange(Nsteps), loss20\u001b[38;5;241m/\u001b[39mnp\u001b[38;5;241m.\u001b[39mmax(loss20), label\u001b[38;5;241m=\u001b[39m\u001b[38;5;124m\"\u001b[39m\u001b[38;5;124m10**(-x/20)\u001b[39m\u001b[38;5;124m\"\u001b[39m);\n\u001b[1;32m      3\u001b[0m plt\u001b[38;5;241m.\u001b[39mxlabel(\u001b[38;5;124m\"\u001b[39m\u001b[38;5;124mStep\u001b[39m\u001b[38;5;124m\"\u001b[39m)\n",
      "\u001b[0;31mNameError\u001b[0m: name 'loss10' is not defined"
     ]
    }
   ],
   "source": [
    "plt.semilogy(np.arange(Nsteps), loss10/np.max(loss10), label=\"10**(-x/10)\");\n",
    "plt.semilogy(np.arange(Nsteps), loss20/np.max(loss20), label=\"10**(-x/20)\");\n",
    "plt.xlabel(\"Step\")\n",
    "plt.ylabel(\"Normalized loss\")\n",
    "plt.legend()\n",
    "plt.grid(True)"
   ]
  },
  {
   "cell_type": "code",
   "execution_count": null,
   "id": "86916126",
   "metadata": {},
   "outputs": [],
   "source": []
  }
 ],
 "metadata": {
  "kernelspec": {
   "display_name": "Python 3 (ipykernel)",
   "language": "python",
   "name": "python3"
  },
  "language_info": {
   "codemirror_mode": {
    "name": "ipython",
    "version": 3
   },
   "file_extension": ".py",
   "mimetype": "text/x-python",
   "name": "python",
   "nbconvert_exporter": "python",
   "pygments_lexer": "ipython3",
   "version": "3.11.0"
  },
  "vscode": {
   "interpreter": {
    "hash": "a5d82d334f0157d2be4b279e89bf68849715c6d8952d96f6c35a4a723c2a5f2a"
   }
  }
 },
 "nbformat": 4,
 "nbformat_minor": 5
}
