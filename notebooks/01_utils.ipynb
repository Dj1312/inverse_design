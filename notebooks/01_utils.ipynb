{
 "cells": [
  {
   "cell_type": "code",
   "execution_count": null,
   "id": "b832048c-007f-48ef-bce4-2d535f350a84",
   "metadata": {},
   "outputs": [],
   "source": [
    "# default_exp utils"
   ]
  },
  {
   "cell_type": "markdown",
   "id": "af4f4bbf-9cc8-490c-88ba-5310a9723a3b",
   "metadata": {},
   "source": [
    "# Utils\n",
    "> Utilities"
   ]
  },
  {
   "cell_type": "code",
   "execution_count": null,
   "id": "5f43fb49-471d-4caa-b718-320de40278f6",
   "metadata": {},
   "outputs": [],
   "source": [
    "# exporti\n",
    "from functools import wraps\n",
    "\n",
    "import jax\n",
    "import jax.numpy as jnp\n",
    "import numpy as np\n",
    "from jax.lax import conv"
   ]
  },
  {
   "cell_type": "markdown",
   "id": "6ed17d19-3eb8-41a2-a966-c1068ed935ee",
   "metadata": {},
   "source": [
    "## Convolutions"
   ]
  },
  {
   "cell_type": "code",
   "execution_count": null,
   "id": "a38b9056-5a5b-40cd-9a21-69541b565ccd",
   "metadata": {},
   "outputs": [],
   "source": [
    "# export\n",
    "@wraps(conv)\n",
    "def conv2d(lhs, rhs, window_strides=(1,1), padding=\"SAME\", **kwargs):\n",
    "    return conv(lhs[None, None, :, :], rhs[None, None, :, :], window_strides, padding, **kwargs)[0, 0, :, :]"
   ]
  },
  {
   "cell_type": "code",
   "execution_count": null,
   "id": "bb3707d0-69c5-4dc5-93e2-e92e2391a783",
   "metadata": {},
   "outputs": [],
   "source": [
    "# export\n",
    "@wraps(conv)\n",
    "def batch_conv2d(lhs, rhs, window_strides=(1,1), padding=\"SAME\", **kwargs):\n",
    "    return conv(lhs[:, None, :, :], rhs[:, None, :, :], window_strides, padding, **kwargs)[:, 0, :, :]"
   ]
  },
  {
   "cell_type": "code",
   "execution_count": null,
   "id": "9cda51e8-71ab-4111-ad3d-ddc9008d6f38",
   "metadata": {},
   "outputs": [],
   "source": [
    "# export\n",
    "def dilute(touches, brush):\n",
    "    return conv2d(\n",
    "        lhs=touches,\n",
    "        rhs=brush,\n",
    "        window_strides=(1, 1),\n",
    "        padding=\"SAME\",\n",
    "        preferred_element_type=bool,\n",
    "    )"
   ]
  },
  {
   "cell_type": "markdown",
   "id": "969b1df3-21d6-4ad1-a338-aae0b03f9121",
   "metadata": {},
   "source": [
    "## Random"
   ]
  },
  {
   "cell_type": "markdown",
   "id": "37566827-6a2a-4cb4-b04a-c0160a5f7c0d",
   "metadata": {},
   "source": [
    "I just can't be bothered doing this the JAX way..."
   ]
  },
  {
   "cell_type": "code",
   "execution_count": null,
   "id": "40eabbf7-9e90-406a-80d7-cb8380a7b744",
   "metadata": {},
   "outputs": [],
   "source": [
    "# export\n",
    "def randn(shape, r=None, dtype=float):\n",
    "    if r is not None:\n",
    "        if isinstance(r, int):\n",
    "            r = np.random.RandomState(seed=r)\n",
    "    else:\n",
    "        r = np.random\n",
    "    return jnp.asarray(r.randn(*shape), dtype=dtype)"
   ]
  },
  {
   "cell_type": "code",
   "execution_count": null,
   "id": "c19fe4dc-8205-4aab-9ce6-a974fd503de6",
   "metadata": {},
   "outputs": [],
   "source": [
    "# export\n",
    "def rand(shape, r=None, dtype=float):\n",
    "    if r is not None:\n",
    "        if isinstance(r, int):\n",
    "            r = np.random.RandomState(seed=r)\n",
    "    else:\n",
    "        r = np.random\n",
    "    return jnp.asarray(r.rand(*shape), dtype=dtype)"
   ]
  },
  {
   "cell_type": "markdown",
   "id": "d57895ae-a0e2-4d0c-b0da-0aace930e025",
   "metadata": {},
   "source": [
    "## Argmax / Argmin"
   ]
  },
  {
   "cell_type": "code",
   "execution_count": null,
   "id": "fa527d02-3207-4214-9c50-d7997eca746d",
   "metadata": {},
   "outputs": [],
   "source": [
    "# export\n",
    "@jax.jit\n",
    "def argmax2d(arr2d):\n",
    "    m, n = arr2d.shape\n",
    "    arr1d = arr2d.ravel()\n",
    "    k = jnp.argmax(arr1d)\n",
    "    return k//m, k%m"
   ]
  },
  {
   "cell_type": "code",
   "execution_count": null,
   "id": "a89e2776-9563-47c6-93b7-b54b2e68b883",
   "metadata": {},
   "outputs": [],
   "source": [
    "# export\n",
    "@jax.jit\n",
    "def argmin2d(arr2d):\n",
    "    m, n = arr2d.shape\n",
    "    arr1d = arr2d.ravel()\n",
    "    k = jnp.argmin(arr1d)\n",
    "    return k//m, k%m"
   ]
  }
 ],
 "metadata": {
  "kernelspec": {
   "display_name": "x",
   "language": "python",
   "name": "x"
  }
 },
 "nbformat": 4,
 "nbformat_minor": 5
}
