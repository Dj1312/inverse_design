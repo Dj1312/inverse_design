{
 "cells": [
  {
   "cell_type": "code",
   "execution_count": null,
   "id": "b832048c-007f-48ef-bce4-2d535f350a84",
   "metadata": {},
   "outputs": [],
   "source": [
    "# default_exp utils"
   ]
  },
  {
   "cell_type": "markdown",
   "id": "af4f4bbf-9cc8-490c-88ba-5310a9723a3b",
   "metadata": {},
   "source": [
    "# Utils\n",
    "> Utilities & Convenience functions..."
   ]
  },
  {
   "cell_type": "code",
   "execution_count": null,
   "id": "5f43fb49-471d-4caa-b718-320de40278f6",
   "metadata": {},
   "outputs": [],
   "source": [
    "# exporti\n",
    "from functools import wraps\n",
    "\n",
    "import jax\n",
    "import jax.numpy as jnp\n",
    "import numpy as np\n",
    "from jax import lax"
   ]
  },
  {
   "cell_type": "markdown",
   "id": "6ed17d19-3eb8-41a2-a966-c1068ed935ee",
   "metadata": {},
   "source": [
    "## Convolutions"
   ]
  },
  {
   "cell_type": "code",
   "execution_count": null,
   "id": "0a9e9337-ff04-4d82-855b-12f94ffa043e",
   "metadata": {},
   "outputs": [],
   "source": [
    "# export\n",
    "def conv(lhs, rhs, window_strides=(1,1), padding=\"SAME\", **kwargs):\n",
    "    if not lhs.dtype == rhs.dtype:\n",
    "        raise ValueError(f\"Cannot do convolution. Different dtypes for 'lhs' and 'rhs'. Got: {lhs.dtype}, {rhs.dtype}\")\n",
    "    elif lhs.dtype in (jnp.float16, jnp.float32, jnp.float64):\n",
    "        return lax.conv(lhs, rhs, window_strides, padding, **kwargs)\n",
    "    else:\n",
    "        raise ValueError(f\"Cannot do convolution. Unsupported dtype: {lhs.dtype}.\")"
   ]
  },
  {
   "cell_type": "code",
   "execution_count": null,
   "id": "a38b9056-5a5b-40cd-9a21-69541b565ccd",
   "metadata": {},
   "outputs": [],
   "source": [
    "# export\n",
    "@wraps(conv)\n",
    "def conv2d(lhs, rhs, window_strides=(1,1), padding=\"SAME\", **kwargs):\n",
    "    return conv(lhs[None, None, :, :], rhs[None, None, :, :], window_strides, padding, **kwargs)[0, 0, :, :]"
   ]
  },
  {
   "cell_type": "code",
   "execution_count": null,
   "id": "bb3707d0-69c5-4dc5-93e2-e92e2391a783",
   "metadata": {},
   "outputs": [],
   "source": [
    "# export\n",
    "@wraps(conv)\n",
    "def batch_conv2d(lhs, rhs, window_strides=(1,1), padding=\"SAME\", **kwargs):\n",
    "    return conv(lhs[:, None, :, :], rhs[:, None, :, :], window_strides, padding, **kwargs)[:, 0, :, :]"
   ]
  },
  {
   "cell_type": "code",
   "execution_count": null,
   "id": "9cda51e8-71ab-4111-ad3d-ddc9008d6f38",
   "metadata": {},
   "outputs": [],
   "source": [
    "# export\n",
    "def dilute(touches, brush):\n",
    "    result = conv2d(\n",
    "        lhs=touches,\n",
    "        rhs=brush,\n",
    "        window_strides=(1, 1),\n",
    "        padding=\"SAME\",\n",
    "    )\n",
    "    return jnp.where(result > 1e-10, 1.0, 0.0)"
   ]
  },
  {
   "cell_type": "markdown",
   "id": "969b1df3-21d6-4ad1-a338-aae0b03f9121",
   "metadata": {},
   "source": [
    "## Random"
   ]
  },
  {
   "cell_type": "markdown",
   "id": "37566827-6a2a-4cb4-b04a-c0160a5f7c0d",
   "metadata": {},
   "source": [
    "I just can't be bothered doing this the JAX way..."
   ]
  },
  {
   "cell_type": "code",
   "execution_count": null,
   "id": "40eabbf7-9e90-406a-80d7-cb8380a7b744",
   "metadata": {},
   "outputs": [],
   "source": [
    "# export\n",
    "def randn(shape, r=None, dtype=float):\n",
    "    if r is not None:\n",
    "        if isinstance(r, int):\n",
    "            r = np.random.RandomState(seed=r)\n",
    "    else:\n",
    "        r = np.random\n",
    "    return jnp.asarray(r.randn(*shape), dtype=dtype)"
   ]
  },
  {
   "cell_type": "code",
   "execution_count": null,
   "id": "c19fe4dc-8205-4aab-9ce6-a974fd503de6",
   "metadata": {},
   "outputs": [],
   "source": [
    "# export\n",
    "def rand(shape, r=None, dtype=float):\n",
    "    if r is not None:\n",
    "        if isinstance(r, int):\n",
    "            r = np.random.RandomState(seed=r)\n",
    "    else:\n",
    "        r = np.random\n",
    "    return jnp.asarray(r.rand(*shape), dtype=dtype)"
   ]
  },
  {
   "cell_type": "markdown",
   "id": "d57895ae-a0e2-4d0c-b0da-0aace930e025",
   "metadata": {},
   "source": [
    "## Argmax / Argmin"
   ]
  },
  {
   "cell_type": "code",
   "execution_count": null,
   "id": "fa527d02-3207-4214-9c50-d7997eca746d",
   "metadata": {},
   "outputs": [],
   "source": [
    "# export\n",
    "@jax.jit\n",
    "def argmax2d(arr2d):\n",
    "    m, n = arr2d.shape\n",
    "    arr1d = arr2d.ravel()\n",
    "    k = jnp.argmax(arr1d)\n",
    "    return k//m, k%m"
   ]
  },
  {
   "cell_type": "code",
   "execution_count": null,
   "id": "a89e2776-9563-47c6-93b7-b54b2e68b883",
   "metadata": {},
   "outputs": [],
   "source": [
    "# export\n",
    "@jax.jit\n",
    "def argmin2d(arr2d):\n",
    "    m, n = arr2d.shape\n",
    "    arr1d = arr2d.ravel()\n",
    "    k = jnp.argmin(arr1d)\n",
    "    return k//m, k%m"
   ]
  },
  {
   "cell_type": "markdown",
   "id": "cd59217a-7926-42c3-8988-b7157f4e7ef8",
   "metadata": {},
   "source": [
    "## Float Mask\n",
    "CUDA and booleans don't work well together. Therefore, we define this convenience function which maps a boolean array to a float array with two values: 1.0 and 0.0"
   ]
  },
  {
   "cell_type": "code",
   "execution_count": null,
   "id": "cc29e240-17a7-477e-927b-c3d4c4811a8c",
   "metadata": {},
   "outputs": [],
   "source": [
    "# export\n",
    "@jax.jit\n",
    "def float_mask(boolean_mask):\n",
    "    assert boolean_mask.dtype == bool\n",
    "    return jnp.asarray(jnp.where(boolean_mask, 1.0, 0.0), dtype=jnp.float32)"
   ]
  },
  {
   "cell_type": "code",
   "execution_count": null,
   "id": "1b115f35-cd51-4612-8444-e25b7182667e",
   "metadata": {},
   "outputs": [],
   "source": [
    "float_mask(jnp.array([True, False]))"
   ]
  },
  {
   "cell_type": "markdown",
   "id": "30ad8c46-dcfa-4cc1-b274-479c7473e8b8",
   "metadata": {},
   "source": [
    "## Boolean Operations on Float Masks"
   ]
  },
  {
   "cell_type": "code",
   "execution_count": null,
   "id": "0a2bac06-694f-4544-a5ea-7d9a55a5b53b",
   "metadata": {},
   "outputs": [],
   "source": [
    "lhs = jnp.array([1.0, 1.0, 0.0, 0.0], dtype=jnp.float32)\n",
    "rhs = jnp.array([1.0, 0.0, 1.0, 0.0], dtype=jnp.float32)"
   ]
  },
  {
   "cell_type": "code",
   "execution_count": null,
   "id": "cd75d785-080a-4f1a-bda4-a5199fea03cc",
   "metadata": {},
   "outputs": [],
   "source": [
    "# export\n",
    "@jax.jit\n",
    "def not_(lhs):\n",
    "    return 1.0 - lhs"
   ]
  },
  {
   "cell_type": "code",
   "execution_count": null,
   "id": "1666f036-32c4-48a7-a9e8-d23e3a3ff814",
   "metadata": {},
   "outputs": [],
   "source": [
    "not_(lhs)"
   ]
  },
  {
   "cell_type": "code",
   "execution_count": null,
   "id": "15b6c212-71b8-48b7-96e0-89212958d430",
   "metadata": {},
   "outputs": [],
   "source": [
    "# export\n",
    "@jax.jit\n",
    "def or_(lhs, rhs):\n",
    "    result = lhs + rhs\n",
    "    return jnp.asarray(jnp.where(result > 1, 1.0, result), dtype=float)"
   ]
  },
  {
   "cell_type": "code",
   "execution_count": null,
   "id": "c79ce872-df05-47e1-926e-47d49b6e4721",
   "metadata": {},
   "outputs": [],
   "source": [
    "or_(lhs, rhs)"
   ]
  },
  {
   "cell_type": "code",
   "execution_count": null,
   "id": "3fd53ed0-9cc8-4db9-951c-a213523e92cc",
   "metadata": {},
   "outputs": [],
   "source": [
    "or_(lhs, not_(rhs))"
   ]
  },
  {
   "cell_type": "code",
   "execution_count": null,
   "id": "2379abcc-0af4-47d8-a260-659d1170c998",
   "metadata": {},
   "outputs": [],
   "source": [
    "or_(not_(lhs), rhs)"
   ]
  },
  {
   "cell_type": "code",
   "execution_count": null,
   "id": "c145e106-8cd6-454c-9365-7f8e882fc3a5",
   "metadata": {},
   "outputs": [],
   "source": [
    "# export\n",
    "@jax.jit\n",
    "def and_(lhs, rhs):\n",
    "    return lhs * rhs"
   ]
  },
  {
   "cell_type": "code",
   "execution_count": null,
   "id": "19cb22f4-4343-4b09-98bd-1cbeea95c6c3",
   "metadata": {},
   "outputs": [],
   "source": [
    "and_(lhs, rhs)"
   ]
  },
  {
   "cell_type": "code",
   "execution_count": null,
   "id": "505f33c8-fc24-42ac-a2d4-de36a1173a0a",
   "metadata": {},
   "outputs": [],
   "source": [
    "and_(lhs, not_(rhs))"
   ]
  },
  {
   "cell_type": "code",
   "execution_count": null,
   "id": "42aadf91-0ace-426f-9ce0-c3d39c21bbb9",
   "metadata": {},
   "outputs": [],
   "source": [
    "and_(not_(lhs), rhs)"
   ]
  },
  {
   "cell_type": "code",
   "execution_count": null,
   "id": "6bdb24b0-15ac-4931-a5df-78192160ba21",
   "metadata": {},
   "outputs": [],
   "source": [
    "# export\n",
    "@jax.jit\n",
    "def xor_(lhs, rhs):\n",
    "    return (lhs + rhs)%2.0"
   ]
  },
  {
   "cell_type": "code",
   "execution_count": null,
   "id": "eff6894f-9276-4f2f-b3b2-7f0563cd4372",
   "metadata": {},
   "outputs": [],
   "source": [
    "xor_(lhs, rhs)"
   ]
  },
  {
   "cell_type": "code",
   "execution_count": null,
   "id": "7c3796f9-9374-438f-85db-6675122827d8",
   "metadata": {},
   "outputs": [],
   "source": [
    "xor_(lhs, not_(rhs))"
   ]
  },
  {
   "cell_type": "code",
   "execution_count": null,
   "id": "ea686161-3cbc-4ec8-ab59-9a12f7e35fe8",
   "metadata": {},
   "outputs": [],
   "source": [
    "xor_(not_(lhs), rhs)"
   ]
  },
  {
   "cell_type": "code",
   "execution_count": null,
   "id": "7a6822ca-a6be-4512-b880-b3844dce7c3b",
   "metadata": {},
   "outputs": [],
   "source": [
    "# export\n",
    "@jax.jit\n",
    "def where_(float_mask, x, y):\n",
    "    return jnp.where(float_mask > 0.5, x, y)"
   ]
  }
 ],
 "metadata": {
  "kernelspec": {
   "display_name": "x",
   "language": "python",
   "name": "x"
  }
 },
 "nbformat": 4,
 "nbformat_minor": 5
}
