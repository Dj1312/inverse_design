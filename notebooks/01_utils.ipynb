{
 "cells": [
  {
   "cell_type": "code",
   "execution_count": null,
   "id": "b832048c-007f-48ef-bce4-2d535f350a84",
   "metadata": {},
   "outputs": [],
   "source": [
    "# default_exp utils"
   ]
  },
  {
   "cell_type": "markdown",
   "id": "af4f4bbf-9cc8-490c-88ba-5310a9723a3b",
   "metadata": {},
   "source": [
    "# Utils\n",
    "> Utilities"
   ]
  },
  {
   "cell_type": "code",
   "execution_count": null,
   "id": "5f43fb49-471d-4caa-b718-320de40278f6",
   "metadata": {},
   "outputs": [],
   "source": [
    "# exporti\n",
    "from jax.lax import conv\n",
    "from functools import wraps"
   ]
  },
  {
   "cell_type": "code",
   "execution_count": null,
   "id": "a38b9056-5a5b-40cd-9a21-69541b565ccd",
   "metadata": {},
   "outputs": [],
   "source": [
    "# export\n",
    "@wraps(conv)\n",
    "def conv2d(lhs, rhs, window_strides=(1,1), padding=\"SAME\", **kwargs):\n",
    "    return conv(lhs[None, None, :, :], rhs[None, None, :, :], window_strides, padding, **kwargs)[0, 0, :, :]"
   ]
  },
  {
   "cell_type": "code",
   "execution_count": null,
   "id": "bb3707d0-69c5-4dc5-93e2-e92e2391a783",
   "metadata": {},
   "outputs": [],
   "source": [
    "# export\n",
    "@wraps(conv)\n",
    "def batch_conv2d(lhs, rhs, window_strides=(1,1), padding=\"SAME\", **kwargs):\n",
    "    return conv(lhs[:, None, :, :], rhs[:, None, :, :], window_strides, padding, **kwargs)[:, 0, :, :]"
   ]
  },
  {
   "cell_type": "code",
   "execution_count": null,
   "id": "9cda51e8-71ab-4111-ad3d-ddc9008d6f38",
   "metadata": {},
   "outputs": [],
   "source": [
    "# export\n",
    "def dilute(touches, brush):\n",
    "    return conv2d(\n",
    "        lhs=touches,\n",
    "        rhs=brush,\n",
    "        window_strides=(1, 1),\n",
    "        padding=\"SAME\",\n",
    "        preferred_element_type=bool,\n",
    "    )"
   ]
  }
 ],
 "metadata": {
  "kernelspec": {
   "display_name": "x",
   "language": "python",
   "name": "x"
  }
 },
 "nbformat": 4,
 "nbformat_minor": 5
}
