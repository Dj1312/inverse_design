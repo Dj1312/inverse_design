{
 "cells": [
  {
   "cell_type": "code",
   "execution_count": null,
   "id": "5e328a8d-c221-4374-98d3-9f41119065c5",
   "metadata": {},
   "outputs": [],
   "source": [
    "# default_exp design"
   ]
  },
  {
   "cell_type": "markdown",
   "id": "603a2587-7c41-4fb8-9cd9-08a0c163b214",
   "metadata": {},
   "source": [
    "# Design\n",
    "> All design-related functions"
   ]
  },
  {
   "cell_type": "code",
   "execution_count": null,
   "id": "90cced79-de37-42bb-a64f-5f1c73fafbc1",
   "metadata": {},
   "outputs": [],
   "source": [
    "# exporti\n",
    "from typing import NamedTuple\n",
    "\n",
    "import jax.numpy as jnp\n",
    "import matplotlib.pyplot as plt\n",
    "from fastcore.basics import patch_to\n",
    "from matplotlib.colors import ListedColormap"
   ]
  },
  {
   "cell_type": "code",
   "execution_count": null,
   "id": "24294614-840d-479e-bb99-68c1b55ef9a9",
   "metadata": {},
   "outputs": [],
   "source": [
    "# export\n",
    "UNASSIGNED = 0\n",
    "VOID = 1\n",
    "SOLID = 2\n",
    "PIXEL_IMPOSSIBLE = 3\n",
    "PIXEL_EXISTING = 4\n",
    "PIXEL_POSSIBLE = 5\n",
    "PIXEL_REQUIRED = 6\n",
    "TOUCH_REQUIRED = 7\n",
    "TOUCH_INVALID = 8\n",
    "TOUCH_EXISTING = 9\n",
    "TOUCH_VALID = 10\n",
    "TOUCH_FREE = 11\n",
    "TOUCH_RESOLVING = 12"
   ]
  },
  {
   "cell_type": "code",
   "execution_count": null,
   "id": "bd6136b1-426f-4046-9439-225e1ecebca8",
   "metadata": {},
   "outputs": [],
   "source": [
    "# export\n",
    "class Design(NamedTuple):\n",
    "    design: jnp.ndarray\n",
    "    void_pixels: jnp.ndarray\n",
    "    solid_pixels: jnp.ndarray\n",
    "    void_touches: jnp.ndarray\n",
    "    solid_touches: jnp.ndarray\n",
    "    \n",
    "    @property\n",
    "    def shape(self):\n",
    "        return self.design.shape\n",
    "    \n",
    "    def copy(self, **kwargs):\n",
    "        kwargs = {name: kwargs.get(name, getattr(self, name)) for name in self._fields}\n",
    "        return Design(*kwargs.values())"
   ]
  },
  {
   "cell_type": "code",
   "execution_count": null,
   "id": "af2ff0e9-3cfd-415a-a8ee-9141c74203dc",
   "metadata": {},
   "outputs": [],
   "source": [
    "# export\n",
    "def new_design(shape):\n",
    "    return Design(\n",
    "        design=jnp.zeros(shape, dtype=jnp.uint8).at[:,:].set(UNASSIGNED),\n",
    "        void_pixels=jnp.zeros(shape, dtype=jnp.uint8).at[:,:].set(PIXEL_POSSIBLE),\n",
    "        solid_pixels=jnp.zeros(shape, dtype=jnp.uint8).at[:,:].set(PIXEL_POSSIBLE),\n",
    "        void_touches=jnp.zeros(shape, dtype=jnp.uint8).at[:,:].set(TOUCH_VALID),\n",
    "        solid_touches=jnp.zeros(shape, dtype=jnp.uint8).at[:,:].set(TOUCH_VALID),\n",
    "    )"
   ]
  },
  {
   "cell_type": "code",
   "execution_count": null,
   "id": "8ac1fd2f-96e0-4f70-b05b-32b3dc088e9e",
   "metadata": {},
   "outputs": [],
   "source": [
    "# export\n",
    "def design_mask(design, dtype=float):\n",
    "    one = jnp.ones_like(design.design, dtype=dtype)\n",
    "    mask = jnp.where(design.design == VOID, -1, one)\n",
    "    return mask"
   ]
  },
  {
   "cell_type": "code",
   "execution_count": null,
   "id": "00bf6ae4-ebd8-4e81-98a3-d26edc42e967",
   "metadata": {},
   "outputs": [],
   "source": [
    "# export\n",
    "def visualize(design):\n",
    "    _cmap = ListedColormap(colors={UNASSIGNED: \"#929292\", VOID: \"#cbcbcb\", SOLID: \"#515151\", PIXEL_IMPOSSIBLE: \"#8dd3c7\", PIXEL_EXISTING: \"#ffffb3\", PIXEL_POSSIBLE: \"#bebada\", PIXEL_REQUIRED: \"#fb7f72\", TOUCH_REQUIRED: \"#00ff00\", TOUCH_INVALID: \"#7fb1d3\", TOUCH_EXISTING: \"#fdb462\", TOUCH_VALID: \"#b3de69\", TOUCH_FREE: \"#fccde5\", TOUCH_RESOLVING: \"#e0e0e0\"}.values(), name=\"cmap\")\n",
    "    nx, ny = design.design.shape\n",
    "    fig, axs = plt.subplots(1, 5, figsize=(15,3*nx/ny))\n",
    "    for i, title in enumerate(design._fields):\n",
    "        ax = axs[i]\n",
    "        ax.set_title(title.replace(\"_\", \" \"))\n",
    "        ax.imshow(design[i], cmap=_cmap, vmin=UNASSIGNED, vmax=TOUCH_RESOLVING)\n",
    "        ax.set_yticks(jnp.arange(nx)+0.5, [\"\" for i in range(nx)])\n",
    "        ax.set_xticks(jnp.arange(ny)+0.5, [\"\" for i in range(ny)])\n",
    "        ax.set_yticks(jnp.arange(nx), [f\"{i}\" for i in range(nx)], minor=True)\n",
    "        ax.set_xticks(jnp.arange(ny), [f\"{i}\" for i in range(ny)], minor=True)\n",
    "        ax.set_xlim(-0.5, ny-0.5)\n",
    "        ax.set_ylim(nx-0.5, -0.5)\n",
    "        ax.grid(visible=True, which=\"major\", c=\"k\")\n",
    "\n",
    "@patch_to(Design)\n",
    "def _repr_html_(self):\n",
    "    visualize(self)\n",
    "    return \"\""
   ]
  },
  {
   "cell_type": "code",
   "execution_count": null,
   "id": "b791177f-43e1-450c-9a9c-244a31bacb98",
   "metadata": {},
   "outputs": [],
   "source": [
    "new_design((6, 8))"
   ]
  }
 ],
 "metadata": {
  "kernelspec": {
   "display_name": "x",
   "language": "python",
   "name": "x"
  }
 },
 "nbformat": 4,
 "nbformat_minor": 5
}
