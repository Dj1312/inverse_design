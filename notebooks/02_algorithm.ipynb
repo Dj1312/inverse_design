{
 "cells": [
  {
   "cell_type": "code",
   "execution_count": null,
   "id": "5e328a8d-c221-4374-98d3-9f41119065c5",
   "metadata": {},
   "outputs": [],
   "source": [
    "# default_exp algorithm"
   ]
  },
  {
   "cell_type": "markdown",
   "id": "603a2587-7c41-4fb8-9cd9-08a0c163b214",
   "metadata": {},
   "source": [
    "# Algorithm\n",
    "> Method by Google X"
   ]
  },
  {
   "cell_type": "code",
   "execution_count": null,
   "id": "90cced79-de37-42bb-a64f-5f1c73fafbc1",
   "metadata": {},
   "outputs": [],
   "source": [
    "# exporti\n",
    "from typing import NamedTuple\n",
    "\n",
    "import jax\n",
    "import jax.numpy as jnp\n",
    "import matplotlib.pyplot as plt\n",
    "from fastcore.basics import patch_to\n",
    "from inverse_design.utils import batch_conv2d, dilute\n",
    "from matplotlib.colors import ListedColormap"
   ]
  },
  {
   "cell_type": "code",
   "execution_count": null,
   "id": "24294614-840d-479e-bb99-68c1b55ef9a9",
   "metadata": {},
   "outputs": [],
   "source": [
    "# export\n",
    "UNASSIGNED = 0\n",
    "VOID = 1\n",
    "SOLID = 2\n",
    "PIXEL_IMPOSSIBLE = 3\n",
    "PIXEL_EXISTING = 4\n",
    "PIXEL_POSSIBLE = 5\n",
    "PIXEL_REQUIRED = 6\n",
    "TOUCH_REQUIRED = 7\n",
    "TOUCH_INVALID = 8\n",
    "TOUCH_EXISTING = 9\n",
    "TOUCH_VALID = 10\n",
    "TOUCH_FREE = 11\n",
    "TOUCH_RESOLVING = 12"
   ]
  },
  {
   "cell_type": "code",
   "execution_count": null,
   "id": "bd6136b1-426f-4046-9439-225e1ecebca8",
   "metadata": {},
   "outputs": [],
   "source": [
    "# export\n",
    "class Design(NamedTuple):\n",
    "    design: jnp.ndarray\n",
    "    void_pixels: jnp.ndarray\n",
    "    solid_pixels: jnp.ndarray\n",
    "    void_touches: jnp.ndarray\n",
    "    solid_touches: jnp.ndarray\n",
    "    \n",
    "    @property\n",
    "    def shape(self):\n",
    "        return self.design.shape"
   ]
  },
  {
   "cell_type": "code",
   "execution_count": null,
   "id": "af2ff0e9-3cfd-415a-a8ee-9141c74203dc",
   "metadata": {},
   "outputs": [],
   "source": [
    "# export\n",
    "def new_design(shape):\n",
    "    return Design(\n",
    "        design=jnp.zeros(shape, dtype=jnp.uint8).at[:,:].set(UNASSIGNED),\n",
    "        void_pixels=jnp.zeros(shape, dtype=jnp.uint8).at[:,:].set(PIXEL_POSSIBLE),\n",
    "        solid_pixels=jnp.zeros(shape, dtype=jnp.uint8).at[:,:].set(PIXEL_POSSIBLE),\n",
    "        void_touches=jnp.zeros(shape, dtype=jnp.uint8).at[:,:].set(TOUCH_VALID),\n",
    "        solid_touches=jnp.zeros(shape, dtype=jnp.uint8).at[:,:].set(TOUCH_VALID),\n",
    "    )"
   ]
  },
  {
   "cell_type": "code",
   "execution_count": null,
   "id": "ab4222a0-68f7-48e7-98c1-d68c1f44d2cb",
   "metadata": {},
   "outputs": [],
   "source": [
    "# export\n",
    "def circular_brush(diameter):\n",
    "    radius = diameter / 2\n",
    "    X, Y = jnp.mgrid[-radius:radius:1j*diameter,-radius:radius:1j*diameter]\n",
    "    _int = lambda x: jnp.array(x, dtype=int)\n",
    "    brush = _int(X)**2 + _int(Y)**2 < radius**2\n",
    "    return brush"
   ]
  },
  {
   "cell_type": "code",
   "execution_count": null,
   "id": "6519e77f-74af-4ada-ba23-ba4b5e430207",
   "metadata": {},
   "outputs": [],
   "source": [
    "# export\n",
    "def notched_square_brush(diameter):\n",
    "    if diameter != 5:\n",
    "        raise NotImplementedError(\"Can only create notched square brush of size 5\")\n",
    "    radius = diameter / 2\n",
    "    X, Y = jnp.mgrid[-radius:radius:1j*diameter,-radius:radius:1j*diameter]\n",
    "    Z = jnp.ones_like(X)\n",
    "    Z = Z.at[0,0].set(0)\n",
    "    Z = Z.at[0,-1].set(0)\n",
    "    Z = Z.at[-1,0].set(0)\n",
    "    Z = Z.at[-1,-1].set(0)\n",
    "    return Z > 0.5"
   ]
  },
  {
   "cell_type": "code",
   "execution_count": null,
   "id": "e96e2a19-6924-412f-a34d-3e95c4418cd2",
   "metadata": {},
   "outputs": [],
   "source": [
    "# export\n",
    "def show_mask(brush):\n",
    "    nx, ny = brush.shape\n",
    "    _cmap = ListedColormap(colors={0: \"#ffffff\", 1: \"#929292\"}.values())\n",
    "    ax = plt.gca()\n",
    "    ax.set_yticks(jnp.arange(nx)+0.5, [\"\" for i in range(nx)])\n",
    "    ax.set_xticks(jnp.arange(ny)+0.5, [\"\" for i in range(ny)])\n",
    "    ax.set_yticks(jnp.arange(nx), [f\"{i}\" for i in range(nx)], minor=True)\n",
    "    ax.set_xticks(jnp.arange(ny), [f\"{i}\" for i in range(ny)], minor=True)\n",
    "    plt.grid(True, color='k')\n",
    "    plt.imshow(brush, cmap=_cmap)"
   ]
  },
  {
   "cell_type": "code",
   "execution_count": null,
   "id": "89fc9afa-2e7d-45a0-b8eb-3bb6c34db48d",
   "metadata": {},
   "outputs": [],
   "source": [
    "show_mask(circular_brush(13));"
   ]
  },
  {
   "cell_type": "code",
   "execution_count": null,
   "id": "fc79df6f-bf6a-4a3b-9bd1-21ab64bd637b",
   "metadata": {},
   "outputs": [],
   "source": [
    "show_mask(notched_square_brush(5))"
   ]
  },
  {
   "cell_type": "code",
   "execution_count": null,
   "id": "00bf6ae4-ebd8-4e81-98a3-d26edc42e967",
   "metadata": {},
   "outputs": [],
   "source": [
    "# export\n",
    "def visualize(design):\n",
    "    _cmap = ListedColormap(colors={UNASSIGNED: \"#929292\", VOID: \"#cbcbcb\", SOLID: \"#515151\", PIXEL_IMPOSSIBLE: \"#8dd3c7\", PIXEL_EXISTING: \"#ffffb3\", PIXEL_POSSIBLE: \"#bebada\", PIXEL_REQUIRED: \"#fb7f72\", TOUCH_REQUIRED: \"#00ff00\", TOUCH_INVALID: \"#7fb1d3\", TOUCH_EXISTING: \"#fdb462\", TOUCH_VALID: \"#b3de69\", TOUCH_FREE: \"#fccde5\", TOUCH_RESOLVING: \"#e0e0e0\"}.values(), name=\"cmap\")\n",
    "    nx, ny = design.design.shape\n",
    "    fig, axs = plt.subplots(1, 5, figsize=(15,3*nx/ny))\n",
    "    for i, title in enumerate(design._fields):\n",
    "        ax = axs[i]\n",
    "        ax.set_title(title.replace(\"_\", \" \"))\n",
    "        ax.imshow(design[i], cmap=_cmap, vmin=UNASSIGNED, vmax=TOUCH_RESOLVING)\n",
    "        ax.set_yticks(jnp.arange(nx)+0.5, [\"\" for i in range(nx)])\n",
    "        ax.set_xticks(jnp.arange(ny)+0.5, [\"\" for i in range(ny)])\n",
    "        ax.set_yticks(jnp.arange(nx), [f\"{i}\" for i in range(nx)], minor=True)\n",
    "        ax.set_xticks(jnp.arange(ny), [f\"{i}\" for i in range(ny)], minor=True)\n",
    "        ax.set_xlim(-0.5, ny-0.5)\n",
    "        ax.set_ylim(nx-0.5, -0.5)\n",
    "        ax.grid(visible=True, which=\"major\", c=\"k\")\n",
    "\n",
    "@patch_to(Design)\n",
    "def _repr_html_(self):\n",
    "    visualize(self)\n",
    "    return \"\"\n",
    "    "
   ]
  },
  {
   "cell_type": "code",
   "execution_count": null,
   "id": "66ebe482-d10e-49ac-a20b-17c70b42d9d4",
   "metadata": {},
   "outputs": [],
   "source": [
    "design = new_design((6, 8)) \n",
    "design"
   ]
  },
  {
   "cell_type": "code",
   "execution_count": null,
   "id": "d15fc1f3-aa60-4e23-b61f-09ffabd737f9",
   "metadata": {},
   "outputs": [],
   "source": [
    "brush = notched_square_brush(5)\n",
    "show_mask(brush)"
   ]
  },
  {
   "cell_type": "code",
   "execution_count": null,
   "id": "74d7614d-d1fd-4a51-b193-a77c7d0f6b2d",
   "metadata": {},
   "outputs": [],
   "source": [
    "# export\n",
    "\n",
    "def _apply_free_touches(void_touches_mask, void_pixels_mask):\n",
    "    r = jnp.zeros_like(void_touches_mask, dtype=bool)\n",
    "    m, n = r.shape\n",
    "    i, j = jnp.arange(m), jnp.arange(n)\n",
    "    I, J = [idxs.ravel() for idxs in jnp.meshgrid(i, j)]\n",
    "    K = jnp.arange(m*n)\n",
    "    R = jnp.broadcast_to(r[None,:,:], (m*n, m, n)).at[K,I,J].set(True)\n",
    "    Rb = batch_conv2d(R, brush[None]) | void_pixels_mask\n",
    "    free_idxs = (Rb == void_pixels_mask).all((1,2))\n",
    "    return R[free_idxs].sum(0, dtype=bool)\n",
    "\n",
    "def add_void_touch(design, brush, pos, apply_free_touches=True):\n",
    "    void_touches_mask = design.void_touches.at[pos].set(TOUCH_EXISTING) == TOUCH_EXISTING\n",
    "    mask = dilute(void_touches_mask, brush)\n",
    "    diluted_mask = dilute(mask, brush)\n",
    "    if apply_free_touches:\n",
    "        free_touches_mask = _apply_free_touches(void_touches_mask, mask)\n",
    "    else:\n",
    "        free_touches_mask = void_touches_mask\n",
    "    return Design(\n",
    "        design=design.design.at[mask].set(VOID),\n",
    "        void_pixels=design.void_pixels.at[mask].set(PIXEL_EXISTING),\n",
    "        solid_pixels=design.solid_pixels.at[mask].set(PIXEL_IMPOSSIBLE),\n",
    "        void_touches=design.void_touches.at[free_touches_mask].set(TOUCH_EXISTING),\n",
    "        solid_touches=design.solid_touches.at[diluted_mask].set(TOUCH_INVALID),\n",
    "    )"
   ]
  },
  {
   "cell_type": "code",
   "execution_count": null,
   "id": "4a9c1fde-5290-4a09-8e16-002453fee04a",
   "metadata": {},
   "outputs": [],
   "source": [
    "design = new_design((6, 8)) \n",
    "design = add_void_touch(design, brush, (0, 6))\n",
    "design"
   ]
  },
  {
   "cell_type": "code",
   "execution_count": null,
   "id": "86f2d343-67e5-487b-a007-0749dca7ae04",
   "metadata": {},
   "outputs": [],
   "source": [
    "def add_solid_touch(design, brush, pos, apply_free_touches=True):\n",
    "    solid_touches_mask=design.solid_touches.at[pos].set(TOUCH_EXISTING) == TOUCH_EXISTING\n",
    "    mask = dilute(solid_touches_mask, brush)\n",
    "    diluted_mask = dilute(mask, brush)\n",
    "    if apply_free_touches:\n",
    "        free_touches_mask = _apply_free_touches(solid_touches_mask, mask)\n",
    "    else:\n",
    "        free_touches_mask = solid_touches_mask\n",
    "    return Design(\n",
    "        design=design.design.at[mask].set(SOLID),\n",
    "        void_pixels=design.void_pixels.at[mask].set(PIXEL_IMPOSSIBLE),\n",
    "        solid_pixels=design.solid_pixels.at[mask].set(PIXEL_EXISTING),\n",
    "        void_touches=design.void_touches.at[diluted_mask].set(TOUCH_INVALID),\n",
    "        solid_touches=design.solid_touches.at[free_touches_mask].set(TOUCH_EXISTING),\n",
    "    )"
   ]
  },
  {
   "cell_type": "code",
   "execution_count": null,
   "id": "2e89df8d-a61c-4e71-8aef-a5aa92f9406b",
   "metadata": {},
   "outputs": [],
   "source": [
    "design = new_design((6, 8)) \n",
    "design = add_void_touch(design, brush, (0, 6))\n",
    "design = add_solid_touch(design, brush, (0, 0))\n",
    "design"
   ]
  },
  {
   "cell_type": "code",
   "execution_count": null,
   "id": "9a216892-b0a6-44c2-9dc2-5009edd29e0c",
   "metadata": {},
   "outputs": [],
   "source": [
    "design = new_design((6, 8)) \n",
    "design = add_void_touch(design, brush, (0, 6))\n",
    "design = add_solid_touch(design, brush, (0, 0))\n",
    "design = add_void_touch(design, brush, (4,6), apply_free_touches=False)\n",
    "design"
   ]
  },
  {
   "cell_type": "code",
   "execution_count": null,
   "id": "571a7003-071a-4428-b5ae-702730152ca8",
   "metadata": {},
   "outputs": [],
   "source": [
    "r = dilute(design.void_touches == TOUCH_EXISTING, brush)\n",
    "show_mask(r)"
   ]
  },
  {
   "cell_type": "code",
   "execution_count": null,
   "id": "ea9baa67-0011-4745-a737-0577898ea1c2",
   "metadata": {},
   "outputs": [],
   "source": [
    "design"
   ]
  },
  {
   "cell_type": "code",
   "execution_count": null,
   "id": "73569a5c-c824-4ecd-a805-56be1de84a47",
   "metadata": {},
   "outputs": [],
   "source": [
    "R = dilute(r, brush)\n",
    "show_mask(R)"
   ]
  },
  {
   "cell_type": "code",
   "execution_count": null,
   "id": "40dafb07-4932-4705-a73a-0854eda536ba",
   "metadata": {},
   "outputs": [],
   "source": []
  }
 ],
 "metadata": {
  "kernelspec": {
   "display_name": "x",
   "language": "python",
   "name": "x"
  }
 },
 "nbformat": 4,
 "nbformat_minor": 5
}
