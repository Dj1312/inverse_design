{
 "cells": [
  {
   "cell_type": "code",
   "execution_count": null,
   "id": "5e328a8d-c221-4374-98d3-9f41119065c5",
   "metadata": {},
   "outputs": [],
   "source": [
    "# default_exp touching"
   ]
  },
  {
   "cell_type": "markdown",
   "id": "603a2587-7c41-4fb8-9cd9-08a0c163b214",
   "metadata": {},
   "source": [
    "# Touching\n",
    "> This follows the example in the appendix of the paper"
   ]
  },
  {
   "cell_type": "code",
   "execution_count": null,
   "id": "90cced79-de37-42bb-a64f-5f1c73fafbc1",
   "metadata": {},
   "outputs": [],
   "source": [
    "# exporti\n",
    "\n",
    "import jax\n",
    "import jax.numpy as jnp\n",
    "from inverse_design.brushes import notched_square_brush, show_mask\n",
    "from inverse_design.design import (\n",
    "    PIXEL_EXISTING,\n",
    "    PIXEL_IMPOSSIBLE,\n",
    "    PIXEL_POSSIBLE,\n",
    "    PIXEL_REQUIRED,\n",
    "    SOLID,\n",
    "    TOUCH_EXISTING,\n",
    "    TOUCH_FREE,\n",
    "    TOUCH_INVALID,\n",
    "    TOUCH_REQUIRED,\n",
    "    TOUCH_RESOLVING,\n",
    "    TOUCH_VALID,\n",
    "    VOID,\n",
    "    Design,\n",
    "    new_design,\n",
    ")\n",
    "from inverse_design.utils import batch_conv2d, dilute, or_, and_, not_, float_mask, where_"
   ]
  },
  {
   "cell_type": "code",
   "execution_count": null,
   "id": "d15fc1f3-aa60-4e23-b61f-09ffabd737f9",
   "metadata": {},
   "outputs": [],
   "source": [
    "my_brush = notched_square_brush(5, 1)\n",
    "show_mask(my_brush)"
   ]
  },
  {
   "cell_type": "code",
   "execution_count": null,
   "id": "66ebe482-d10e-49ac-a20b-17c70b42d9d4",
   "metadata": {},
   "outputs": [],
   "source": [
    "step1 = lambda: new_design((6, 8))\n",
    "step1()"
   ]
  },
  {
   "cell_type": "code",
   "execution_count": null,
   "id": "fc74c79b-49df-4d35-b59a-43aad9c8d45b",
   "metadata": {},
   "outputs": [],
   "source": [
    "# export\n",
    "\n",
    "@jax.jit\n",
    "def _find_free_touches(touches_mask, pixels_mask, brush):\n",
    "    r = jnp.zeros_like(touches_mask, dtype=float)\n",
    "    m, n = r.shape\n",
    "    i, j = jnp.arange(m), jnp.arange(n)\n",
    "    I, J = [idxs.ravel() for idxs in jnp.meshgrid(i, j)]\n",
    "    K = jnp.arange(m * n)\n",
    "    R = jnp.broadcast_to(r[None, :, :], (m * n, m, n)).at[K, I, J].set(1.0)\n",
    "    Rb = or_(batch_conv2d(R, brush[None]), pixels_mask)\n",
    "    free_idxs = (Rb - pixels_mask < 1e-10).all((1, 2))\n",
    "    free_touches_mask = where_(free_idxs[:, None, None], R, 0.0).sum(0)\n",
    "    return and_(free_touches_mask, not_(touches_mask))"
   ]
  },
  {
   "cell_type": "code",
   "execution_count": null,
   "id": "45a9d6e1-714f-4b2f-9640-8a9ad27101c8",
   "metadata": {},
   "outputs": [],
   "source": [
    "# export\n",
    "@jax.jit\n",
    "def _find_required_pixels(pixel_map, brush):\n",
    "    mask = and_(not_(pixel_map), not_(dilute(pixel_map, brush)))\n",
    "    return not_(or_(dilute(mask, brush), pixel_map))"
   ]
  },
  {
   "cell_type": "code",
   "execution_count": null,
   "id": "e78483f2-ea4d-4dd5-b6f6-0f4ba8bf754f",
   "metadata": {},
   "outputs": [],
   "source": [
    "# export\n",
    "@jax.jit\n",
    "def add_void_touch(design, brush, pos):\n",
    "    if isinstance(pos, tuple):\n",
    "        void_touch_existing = design.void_touch_existing.at[pos[0], pos[1]].set(1.0)\n",
    "    else:\n",
    "        void_touch_existing = or_(pos,  design.void_touch_existing)\n",
    "    void = or_(dilute(void_touch_existing, brush),  design.void)\n",
    "    solid_touch_invalid = dilute(void, brush)\n",
    "    void_pixel_required = _find_required_pixels(void, brush)\n",
    "    void_touch_free = _find_free_touches(void_touch_existing, or_(void, void_pixel_required), brush)\n",
    "    void_touch_valid = and_(design.void_touch_valid, not_(design.void_touch_invalid))\n",
    "    void_touch_valid = or_(void_touch_valid, design.void_touch_resolving)\n",
    "    void_touch_resolving = and_(dilute(void_pixel_required, brush), void_touch_valid)\n",
    "    void_touch_resolving = and_(void_touch_resolving, not_(void_touch_free))\n",
    "    void_pixel_existing = or_(void, design.void_pixel_existing)\n",
    "    solid_pixel_impossible = or_(or_(design.solid_pixel_impossible, void), void_pixel_required)\n",
    "    void_pixel_possible = and_(design.void_pixel_possible, not_(or_(void_pixel_existing, design.void_pixel_impossible)))\n",
    "    return design.copy(\n",
    "        void=void,\n",
    "        solid_pixel_impossible=solid_pixel_impossible,\n",
    "        void_pixel_existing=void_pixel_existing,\n",
    "        void_pixel_possible=void_pixel_possible,\n",
    "        void_pixel_impossible=and_(design.void_pixel_impossible, not_(void_pixel_possible)),\n",
    "        void_pixel_required=void_pixel_required,\n",
    "        solid_touch_invalid=solid_touch_invalid,\n",
    "        solid_touch_valid=and_(design.solid_touch_valid, not_(solid_touch_invalid)),\n",
    "        void_touch_existing=void_touch_existing,\n",
    "        void_touch_valid=and_(void_touch_valid, not_(void_touch_existing)),\n",
    "        void_touch_free=void_touch_free,\n",
    "        void_touch_resolving=void_touch_resolving,\n",
    "    )"
   ]
  },
  {
   "cell_type": "code",
   "execution_count": null,
   "id": "4a9c1fde-5290-4a09-8e16-002453fee04a",
   "metadata": {},
   "outputs": [],
   "source": [
    "step2 = lambda: add_void_touch(step1(), my_brush, (0, 6))\n",
    "step2()"
   ]
  },
  {
   "cell_type": "code",
   "execution_count": null,
   "id": "e6c5d5d9-34c2-4ee6-a62e-bc4808adf9e8",
   "metadata": {},
   "outputs": [],
   "source": [
    "# export\n",
    "@jax.jit\n",
    "def take_free_void_touches(design, brush):\n",
    "    return add_void_touch(design, brush, design.void_touch_free)"
   ]
  },
  {
   "cell_type": "code",
   "execution_count": null,
   "id": "18948be2-7360-4f6e-a6a8-b7622423fcc5",
   "metadata": {},
   "outputs": [],
   "source": [
    "step3 = lambda: take_free_void_touches(step2(), my_brush)\n",
    "step3()"
   ]
  },
  {
   "cell_type": "code",
   "execution_count": null,
   "id": "e1afa3c5-f47f-4179-b1cc-e11b4e8b625c",
   "metadata": {},
   "outputs": [],
   "source": [
    "# export\n",
    "@jax.jit\n",
    "def add_solid_touch(design, brush, pos):\n",
    "    if isinstance(pos, tuple):\n",
    "        solid_touch_existing = design.solid_touch_existing.at[pos[0], pos[1]].set(1.0)\n",
    "    else:\n",
    "        solid_touch_existing = or_(pos,  design.solid_touch_existing)\n",
    "    solid = or_(dilute(solid_touch_existing, brush),  design.solid)\n",
    "    void_touch_invalid = dilute(solid, brush)\n",
    "    solid_pixel_required = _find_required_pixels(solid, brush)\n",
    "    solid_touch_free = _find_free_touches(solid_touch_existing, or_(solid, solid_pixel_required), brush)\n",
    "    solid_touch_valid = and_(design.solid_touch_valid, not_(design.solid_touch_invalid))\n",
    "    solid_touch_valid = or_(solid_touch_valid, design.solid_touch_resolving)\n",
    "    solid_touch_resolving = and_(dilute(solid_pixel_required, brush), solid_touch_valid)\n",
    "    solid_touch_resolving = and_(solid_touch_resolving, not_(solid_touch_free))\n",
    "    solid_pixel_existing = or_(solid, design.solid_pixel_existing)\n",
    "    void_pixel_impossible = or_(or_(design.void_pixel_impossible, solid), solid_pixel_required)\n",
    "    solid_pixel_possible = and_(design.solid_pixel_possible, not_(or_(solid_pixel_existing, design.solid_pixel_impossible)))\n",
    "    return design.copy(\n",
    "        solid=solid,\n",
    "        void_pixel_impossible=void_pixel_impossible,\n",
    "        solid_pixel_existing=solid_pixel_existing,\n",
    "        solid_pixel_possible=solid_pixel_possible,\n",
    "        solid_pixel_impossible=and_(design.solid_pixel_impossible, not_(solid_pixel_possible)),\n",
    "        solid_pixel_required=solid_pixel_required,\n",
    "        void_touch_invalid=void_touch_invalid,\n",
    "        void_touch_valid=and_(design.void_touch_valid, not_(void_touch_invalid)),\n",
    "        solid_touch_existing=solid_touch_existing,\n",
    "        solid_touch_valid=and_(solid_touch_valid, not_(solid_touch_existing)),\n",
    "        solid_touch_free=solid_touch_free,\n",
    "        solid_touch_resolving=solid_touch_resolving,\n",
    "    )"
   ]
  },
  {
   "cell_type": "code",
   "execution_count": null,
   "id": "ffbfebd7-1e83-4c9d-aa9f-f5b02f8984ce",
   "metadata": {},
   "outputs": [],
   "source": [
    "# export\n",
    "@jax.jit\n",
    "def take_free_solid_touches(design, brush):\n",
    "    return add_solid_touch(design, brush, design.solid_touch_free)"
   ]
  },
  {
   "cell_type": "code",
   "execution_count": null,
   "id": "2e89df8d-a61c-4e71-8aef-a5aa92f9406b",
   "metadata": {},
   "outputs": [],
   "source": [
    "step4 = lambda: add_solid_touch(step3(), my_brush, (0, 0))\n",
    "step4()"
   ]
  },
  {
   "cell_type": "code",
   "execution_count": null,
   "id": "f4e5b192-e6fd-4777-ad6b-f1356e316df4",
   "metadata": {},
   "outputs": [],
   "source": [
    "step5 = lambda: add_void_touch(step4(), my_brush, (4, 6))\n",
    "step5()"
   ]
  },
  {
   "cell_type": "code",
   "execution_count": null,
   "id": "b880b8c4-4c1f-4c8c-8dbe-0e55c95f9b8b",
   "metadata": {},
   "outputs": [],
   "source": [
    "step6 = lambda: take_free_void_touches(step5(), my_brush)\n",
    "step6()"
   ]
  },
  {
   "cell_type": "code",
   "execution_count": null,
   "id": "04a49611-5659-4dba-86e8-c450e0f2c5a8",
   "metadata": {},
   "outputs": [],
   "source": [
    "step7 = lambda: add_void_touch(step6(), my_brush, (4, 4))\n",
    "step7()"
   ]
  },
  {
   "cell_type": "code",
   "execution_count": null,
   "id": "3267571d-64a1-473f-9884-64d1cf36efe2",
   "metadata": {},
   "outputs": [],
   "source": [
    "step8 = lambda: take_free_void_touches(step7(), my_brush)\n",
    "step8()"
   ]
  },
  {
   "cell_type": "code",
   "execution_count": null,
   "id": "a37eb157-61c3-45e4-8fd0-57a297d529ed",
   "metadata": {},
   "outputs": [],
   "source": [
    "step9 = lambda: add_void_touch(step8(), my_brush, (5, 0))\n",
    "step9()"
   ]
  },
  {
   "cell_type": "code",
   "execution_count": null,
   "id": "7a3a5c23-ed2d-4e94-8d30-c77771be75d8",
   "metadata": {},
   "outputs": [],
   "source": [
    "step10 = lambda: take_free_void_touches(step9(), my_brush)\n",
    "step10()"
   ]
  },
  {
   "cell_type": "code",
   "execution_count": null,
   "id": "12ac3e06-1204-470b-8087-e93dca441447",
   "metadata": {},
   "outputs": [],
   "source": [
    "step11 = lambda: add_void_touch(step10(), my_brush, (2, 5))\n",
    "step11()"
   ]
  },
  {
   "cell_type": "code",
   "execution_count": null,
   "id": "51670fb0-5967-4b6c-9e90-d8ff3bf2b73f",
   "metadata": {},
   "outputs": [],
   "source": [
    "step12 = lambda: take_free_void_touches(step11(), my_brush)\n",
    "step12()"
   ]
  }
 ],
 "metadata": {
  "kernelspec": {
   "display_name": "x",
   "language": "python",
   "name": "x"
  }
 },
 "nbformat": 4,
 "nbformat_minor": 5
}
