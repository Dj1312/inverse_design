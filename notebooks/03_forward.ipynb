{
 "cells": [
  {
   "cell_type": "code",
   "execution_count": null,
   "id": "65b4e84c-3228-428e-99bf-894bd4d26592",
   "metadata": {},
   "outputs": [],
   "source": [
    "# default_exp forward"
   ]
  },
  {
   "cell_type": "markdown",
   "id": "dab7f526-207e-4d5a-ac00-ae1ca2ebc781",
   "metadata": {},
   "source": [
    "# Forward\n",
    "> forward pass"
   ]
  },
  {
   "cell_type": "code",
   "execution_count": null,
   "id": "01060fe3-20bf-468d-a970-4722feed2cc0",
   "metadata": {},
   "outputs": [],
   "source": [
    "# export\n",
    "import jax\n",
    "import jax.numpy as jnp\n",
    "import numpy as np\n",
    "from inverse_design.utils import conv2d, randn\n",
    "from inverse_design.generator import (\n",
    "    new_design,\n",
    "    add_void_touch,\n",
    "    take_free_void_touches,\n",
    "    add_solid_touch,\n",
    "    take_free_solid_touches,\n",
    ")\n",
    "from itertools import count\n",
    "from inverse_design.generator import (\n",
    "    UNASSIGNED,\n",
    "    VOID,\n",
    "    SOLID,\n",
    "    PIXEL_IMPOSSIBLE,\n",
    "    PIXEL_EXISTING,\n",
    "    PIXEL_POSSIBLE,\n",
    "    PIXEL_REQUIRED,\n",
    "    TOUCH_REQUIRED,\n",
    "    TOUCH_INVALID,\n",
    "    TOUCH_EXISTING,\n",
    "    TOUCH_VALID,\n",
    "    TOUCH_FREE,\n",
    "    TOUCH_RESOLVING,\n",
    ")"
   ]
  },
  {
   "cell_type": "code",
   "execution_count": null,
   "id": "96bf4a73-a2db-4d54-8674-4da62485c085",
   "metadata": {},
   "outputs": [],
   "source": [
    "# hide\n",
    "import matplotlib.pyplot as plt\n",
    "from inverse_design.generator import circular_brush, notched_square_brush, show_mask\n",
    "my_brush = notched_square_brush(5, 1)\n",
    "my_brush = circular_brush(3)\n",
    "show_mask(my_brush)"
   ]
  },
  {
   "cell_type": "markdown",
   "id": "66a24303-df84-4c54-8726-a3107a44963c",
   "metadata": {},
   "source": [
    "## Latent Design\n",
    "It's not very well explained in the paper what the latent design actually is. In this case we'll just assume it's an array of the same shape as the design, but with continuous values between 0 and 1."
   ]
  },
  {
   "cell_type": "code",
   "execution_count": null,
   "id": "d6c4b1e6-63c9-48fb-be8d-11efb946b29e",
   "metadata": {},
   "outputs": [],
   "source": [
    "def new_latent_design(shape, bias=0, r=None):\n",
    "    arr = randn(shape, r=r)\n",
    "    arr += bias\n",
    "    return jnp.asarray(arr, dtype=float)"
   ]
  },
  {
   "cell_type": "code",
   "execution_count": null,
   "id": "7568e096-08c7-479d-b901-44181b58cd9d",
   "metadata": {},
   "outputs": [],
   "source": [
    "latent = new_latent_design((30,30), r=42)\n",
    "plt.imshow(latent, vmin=-3, vmax=3, cmap=\"Greys\")\n",
    "plt.colorbar()\n",
    "plt.show()"
   ]
  },
  {
   "cell_type": "markdown",
   "id": "40762596-557c-480f-afe4-3dd9ecf3727e",
   "metadata": {},
   "source": [
    "## Transform\n",
    "The transform removes some of the noise from the latent design.  "
   ]
  },
  {
   "cell_type": "code",
   "execution_count": null,
   "id": "6aec5493-01e4-4c6c-b69c-d1d1a99e07ce",
   "metadata": {},
   "outputs": [],
   "source": [
    "@jax.jit\n",
    "def transform(latent, brush, beta=5.0):\n",
    "    return jnp.tanh(beta * conv2d(latent, jnp.asarray(brush, dtype=float)/brush.sum()))"
   ]
  },
  {
   "cell_type": "code",
   "execution_count": null,
   "id": "4ba3235a-a1bb-47f5-8aa5-8a51d29cf21c",
   "metadata": {},
   "outputs": [],
   "source": [
    "latent_t = transform(latent, my_brush)\n",
    "plt.imshow(latent_t, cmap=\"Greys\", vmin=-1, vmax=1)\n",
    "plt.colorbar()\n",
    "plt.show()"
   ]
  },
  {
   "cell_type": "markdown",
   "id": "860ce9c5-a960-4f6c-8f32-a190daea8147",
   "metadata": {},
   "source": [
    "## Generator"
   ]
  },
  {
   "cell_type": "code",
   "execution_count": null,
   "id": "064646ca-4e60-41ce-adbf-32f5f186a0c9",
   "metadata": {},
   "outputs": [],
   "source": [
    "@jax.jit\n",
    "def argmax2d(arr2d):\n",
    "    m, n = arr2d.shape\n",
    "    arr1d = arr2d.ravel()\n",
    "    k = jnp.argmax(arr1d)\n",
    "    return k//m, k%m"
   ]
  },
  {
   "cell_type": "code",
   "execution_count": null,
   "id": "0dd4be72-f9c6-463e-bb56-8bbd050096d2",
   "metadata": {},
   "outputs": [],
   "source": [
    "@jax.jit\n",
    "def argmin2d(arr2d):\n",
    "    m, n = arr2d.shape\n",
    "    arr1d = arr2d.ravel()\n",
    "    k = jnp.argmin(arr1d)\n",
    "    return k//m, k%m"
   ]
  },
  {
   "cell_type": "code",
   "execution_count": null,
   "id": "c97a231c-8f80-462b-95b9-8c967a1a8aaa",
   "metadata": {},
   "outputs": [],
   "source": [
    "brush = my_brush\n",
    "design = new_design(latent_t.shape)"
   ]
  },
  {
   "cell_type": "code",
   "execution_count": null,
   "id": "ba3d3f0e-f9b3-43ab-9c15-c3d84c897a9c",
   "metadata": {},
   "outputs": [],
   "source": [
    "I = 0 "
   ]
  },
  {
   "cell_type": "code",
   "execution_count": null,
   "id": "b42064be-bfa9-4f21-b007-41f31513af3e",
   "metadata": {},
   "outputs": [],
   "source": [
    "for I in count():\n",
    "    void_touch_mask = design.void_touches == TOUCH_VALID\n",
    "    solid_touch_mask = design.solid_touches == TOUCH_VALID\n",
    "    touch_mask = void_touch_mask | solid_touch_mask\n",
    "    \n",
    "    void_free_mask = design.void_touches == TOUCH_FREE\n",
    "    solid_free_mask = design.solid_touches == TOUCH_FREE\n",
    "    free_mask = void_free_mask | solid_free_mask\n",
    "    \n",
    "    void_resolving_mask = design.void_touches == TOUCH_RESOLVING\n",
    "    solid_resolving_mask = design.solid_touches == TOUCH_RESOLVING\n",
    "    resolving_mask = void_resolving_mask | solid_resolving_mask\n",
    "\n",
    "    if I == -1:\n",
    "        break\n",
    "    if free_mask.any():\n",
    "        void_selector = jnp.where(void_free_mask, latent_t, 0)\n",
    "        solid_selector = jnp.where(solid_free_mask, latent_t, 0)\n",
    "        if abs(void_selector.sum()) > abs(solid_selector.sum()):\n",
    "            design = take_free_void_touches(design, brush)\n",
    "            print(f\"{I} take free void...\")\n",
    "        else:\n",
    "            design = take_free_solid_touches(design, brush)\n",
    "            print(f\"{I} take free solid...\")\n",
    "    elif resolving_mask.any():\n",
    "        void_needs_resolving = void_resolving_mask.any()\n",
    "        solid_needs_resolving = solid_resolving_mask.any()\n",
    "        void_selector = jnp.where(void_resolving_mask, latent_t, np.inf)\n",
    "        solid_selector = jnp.where(solid_resolving_mask, latent_t, -np.inf)\n",
    "        \n",
    "        if void_needs_resolving and (not solid_needs_resolving):\n",
    "            i_v, j_v = argmin2d(void_selector)\n",
    "            design = add_void_touch(design, brush, (i_v, j_v))\n",
    "            print(f\"{I} resolve void {int(i_v), int(j_v)}...\")\n",
    "        elif (not void_needs_resolving) and solid_needs_resolving:\n",
    "            i_s, j_s = argmax2d(solid_selector)\n",
    "            design = add_solid_touch(design, brush, (i_s, j_s))\n",
    "            print(f\"{I} resolve solid {int(i_s), int(j_s)}...\")\n",
    "        else: # both need resolving. TODO: figure out if we actually need this case...\n",
    "            i_v, j_v = argmin2d(void_selector)\n",
    "            v = latent_t[i_v, j_v]\n",
    "            i_s, j_s = argmax2d(solid_selector)\n",
    "            s = latent_t[i_s, j_s]\n",
    "            if abs(v) > abs(s):\n",
    "                design = add_void_touch(design, brush, (i_v, j_v))\n",
    "                print(f\"{I} resolve void {int(i_v), int(j_v)}...\")\n",
    "            else:\n",
    "                design = add_solid_touch(design, brush, (i_s, j_s))\n",
    "                print(f\"{I} resolve solid {int(i_s), int(j_s)}...\")\n",
    "                \n",
    "    elif touch_mask.any():\n",
    "        void_selector = jnp.where(void_touch_mask, latent_t, np.inf)\n",
    "        solid_selector = jnp.where(solid_touch_mask, latent_t, -np.inf)\n",
    "        i_v, j_v = argmin2d(void_selector)\n",
    "        v = latent_t[i_v, j_v]\n",
    "        i_s, j_s = argmax2d(solid_selector)\n",
    "        s = latent_t[i_s, j_s]\n",
    "        if abs(v) > abs(s):\n",
    "            design = add_void_touch(design, brush, (i_v, j_v))\n",
    "            print(f\"{I} touch void  {int(i_v), int(j_v)}...\")\n",
    "        else:\n",
    "            design = add_solid_touch(design, brush, (i_s, j_s))\n",
    "            print(f\"{I} touch solid  {int(i_s), int(j_s)}...\")\n",
    "    else:\n",
    "        break"
   ]
  },
  {
   "cell_type": "code",
   "execution_count": null,
   "id": "b25356e9-1179-4ad1-966c-3319a901bb0f",
   "metadata": {},
   "outputs": [],
   "source": [
    "design"
   ]
  },
  {
   "cell_type": "code",
   "execution_count": null,
   "id": "b2b9f711-1fd7-491f-8136-d3d22f4f67da",
   "metadata": {},
   "outputs": [],
   "source": [
    "latent_t = transform(latent, my_brush)\n",
    "plt.imshow(latent_t, cmap=\"Greys\", vmin=-1, vmax=1)\n",
    "plt.colorbar()\n",
    "plt.show()"
   ]
  }
 ],
 "metadata": {
  "kernelspec": {
   "display_name": "x",
   "language": "python",
   "name": "x"
  }
 },
 "nbformat": 4,
 "nbformat_minor": 5
}
