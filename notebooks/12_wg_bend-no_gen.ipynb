{
 "cells": [
  {
   "cell_type": "code",
   "execution_count": 1,
   "id": "c08c16e0",
   "metadata": {},
   "outputs": [],
   "source": [
    "import ceviche_challenges\n",
    "from ceviche_challenges import units as u\n",
    "from ceviche_challenges.model_base import _wavelengths_nm_to_omegas\n",
    "\n",
    "from ceviche import viz, fdfd_ez\n",
    "from ceviche import jacobian\n",
    "\n",
    "import autograd\n",
    "import autograd.numpy as npa\n",
    "import jax\n",
    "import jax.numpy as jnp\n",
    "\n",
    "import numpy as np\n",
    "import matplotlib.pyplot as plt"
   ]
  },
  {
   "cell_type": "code",
   "execution_count": 2,
   "id": "be791c7a",
   "metadata": {},
   "outputs": [],
   "source": [
    "from inverse_design.brushes import notched_square_brush, circular_brush\n",
    "from inverse_design.conditional_generator import (\n",
    "    new_latent_design, transform\n",
    ")\n",
    "from tqdm.notebook import trange\n",
    "\n",
    "from javiche import jaxit\n",
    "\n",
    "from inverse_design.local_generator import generate_feasible_design_mask\n",
    "from jax.example_libraries.optimizers import adam"
   ]
  },
  {
   "cell_type": "markdown",
   "id": "8aba19d4",
   "metadata": {},
   "source": [
    "# Define the problem using ceviche_challenges"
   ]
  },
  {
   "cell_type": "code",
   "execution_count": 3,
   "id": "6cdd6557",
   "metadata": {},
   "outputs": [],
   "source": [
    "spec = ceviche_challenges.waveguide_bend.prefabs.waveguide_bend_2umx2um_spec(\n",
    "    wg_width=400*u.nm, variable_region_size=(1600*u.nm, 1600*u.nm), cladding_permittivity=2.25\n",
    ")\n",
    "params = ceviche_challenges.waveguide_bend.prefabs.waveguide_bend_sim_params(resolution = 25 * u.nm,\n",
    "                                                                             wavelengths=u.Array([1270], u.nm))\n",
    "model = ceviche_challenges.waveguide_bend.model.WaveguideBendModel(params, spec)"
   ]
  },
  {
   "cell_type": "markdown",
   "id": "cdb4d640",
   "metadata": {},
   "source": [
    "# Define the optimization function"
   ]
  },
  {
   "cell_type": "code",
   "execution_count": 4,
   "id": "4b8be9a0",
   "metadata": {},
   "outputs": [],
   "source": [
    "def db_to_au(x):\n",
    "    return npa.power(10, x / 10)\n",
    "\n",
    "S_cutoff_dB = npa.array([-20., -0.5])\n",
    "S_cutoff = db_to_au(S_cutoff_dB)\n",
    "g = npa.array([-1 if x < S_cutoff.max() else +1 for x in S_cutoff])\n",
    "w_valid = npa.array([x if x < S_cutoff.max() else 1-x for x in S_cutoff])\n",
    "\n",
    "min_w = jnp.min(w_valid)"
   ]
  },
  {
   "cell_type": "code",
   "execution_count": 5,
   "id": "62d669ee",
   "metadata": {},
   "outputs": [],
   "source": [
    "def plot_state(model, rho, grads):\n",
    "    des = forward(rho, brush)\n",
    "    \n",
    "    _, E_12 = model.simulate(des, excite_port_idxs=[0])\n",
    "    _, E_21 = model.simulate(des, excite_port_idxs=[1])\n",
    "\n",
    "    E_12 = E_12.squeeze()\n",
    "    E_21 = E_21.squeeze()\n",
    "    \n",
    "    fig, ax = plt.subplots(1,5, figsize=(5*4,4))\n",
    "    viz.abs(E_12, outline=model.density(des), ax=ax[0]);\n",
    "    viz.abs(E_21, outline=model.density(des), ax=ax[1]);\n",
    "    viz.real(grads, ax=ax[2]);\n",
    "    ax[3].imshow(grads.T)\n",
    "    #viz.real(ez_in * np.conj(ez_out), outline=model.density(np.asarray(design)), ax=ax[2]);\n",
    "    #viz.real(ez_in * ez_out, outline=model.density(np.asarray(design)), ax=ax[3]);\n",
    "    #viz.real((Ez_source.squeeze() * Ez_probe.squeeze()).T, outline=model.density(np.asarray(design)), ax=ax[4]);\n",
    "    plt.show()"
   ]
  },
  {
   "cell_type": "code",
   "execution_count": 18,
   "id": "4a1b80e2",
   "metadata": {},
   "outputs": [],
   "source": [
    "@jaxit()\n",
    "def objective_S(rho):\n",
    "    s_params, fields = model.simulate(rho)\n",
    "    \n",
    "    return s_params\n",
    "\n",
    "def loss_function(S):\n",
    "    s11 = jnp.abs(S[:, 0, 0])**2\n",
    "    s21 = jnp.abs(S[:, 0, 1])**2\n",
    "\n",
    "    s = jnp.stack((s11,s21))\n",
    "    g = jnp.stack((jnp.ones_like(s11),-jnp.ones_like(s21)))\n",
    "\n",
    "    t_s21 = 10**(-0.5/20)\n",
    "    t_s11 = 10**(-20/20)\n",
    "\n",
    "    target = jnp.stack((jnp.ones_like(s11)*(t_s11**2),jnp.ones_like(s21)*(t_s21**2)))\n",
    "    w_min = min(1-t_s21, t_s11)\n",
    "    L = jnp.sum(jax.nn.softplus(g*(s-target)/w_min)**2)\n",
    "    \n",
    "    return L"
   ]
  },
  {
   "cell_type": "markdown",
   "id": "6cfd781a",
   "metadata": {},
   "source": [
    "# Then, the inverse design aka the conditional generator part"
   ]
  },
  {
   "cell_type": "code",
   "execution_count": 19,
   "id": "9f9c9884",
   "metadata": {},
   "outputs": [],
   "source": [
    "def forward(latent_weights, brush):\n",
    "    latent_t = transform(latent_weights, brush) #.reshape((Nx, Ny))\n",
    "    design_mask = generate_feasible_design_mask(latent_t, \n",
    "      brush, verbose=False)\n",
    "    design = (design_mask+1.0)/2.0\n",
    "    return design"
   ]
  },
  {
   "cell_type": "code",
   "execution_count": 20,
   "id": "8821d3f5",
   "metadata": {},
   "outputs": [],
   "source": [
    "brush = circular_brush(5)\n",
    "latent = new_latent_design(model.design_variable_shape, bias=0.95, r=1, r_scale=1e-3)"
   ]
  },
  {
   "cell_type": "code",
   "execution_count": 21,
   "id": "558e2eea",
   "metadata": {},
   "outputs": [],
   "source": [
    "def loss_fn(latent):\n",
    "    design = forward(latent, brush)\n",
    "    S = objective_S(design)\n",
    "    return loss_function(S)"
   ]
  },
  {
   "cell_type": "code",
   "execution_count": 22,
   "id": "39065c88",
   "metadata": {},
   "outputs": [],
   "source": [
    "def loss_no_gen(design):\n",
    "    S = objective_S(design)\n",
    "    return loss_function(S)\n",
    "loss_fn = loss_no_gen"
   ]
  },
  {
   "cell_type": "markdown",
   "id": "c1f54415",
   "metadata": {},
   "source": [
    "# Now we define the optimization"
   ]
  },
  {
   "cell_type": "code",
   "execution_count": 23,
   "id": "76ec75c9",
   "metadata": {},
   "outputs": [],
   "source": [
    "# Number of epochs in the optimization\n",
    "Nsteps = 90\n",
    "# Parameters for the Adam optimizer\n",
    "step_size = 0.01\n",
    "beta1 = 0.667\n",
    "beta2 = 0.9"
   ]
  },
  {
   "cell_type": "code",
   "execution_count": 24,
   "id": "6dac1512",
   "metadata": {},
   "outputs": [],
   "source": [
    "grad_fn = jax.grad(loss_fn)\n",
    "\n",
    "init_fn, update_fn, params_fn = adam(step_size, beta1, beta2)\n",
    "state = init_fn(latent) #.flatten()\n",
    "#value_and_grad seems to have a problem. Figure out why!\n",
    "\n",
    "def step_fn(step, state):\n",
    "    latent = params_fn(state) # we need autograd arrays here...\n",
    "    grads = grad_fn(latent)\n",
    "    loss = loss_fn(latent)\n",
    "\n",
    "    optim_state = update_fn(step, grads, state)\n",
    "    # optim_latent = params_fn(optim_state)\n",
    "    # optim_latent = optim_latent/optim_latent.std()\n",
    "    # plot_state(model, latent, grads)\n",
    "    \n",
    "    return loss, optim_state"
   ]
  },
  {
   "cell_type": "code",
   "execution_count": 25,
   "id": "f2d3464b",
   "metadata": {},
   "outputs": [],
   "source": [
    "init_fn, update_fn, params_fn = adam(step_size, beta1, beta2)\n",
    "state = init_fn(npa.array(latent))\n",
    "\n",
    "latent = params_fn(state)\n",
    "grads = grad_fn(jnp.array(latent))"
   ]
  },
  {
   "cell_type": "code",
   "execution_count": 26,
   "id": "728e5abe",
   "metadata": {
    "scrolled": false
   },
   "outputs": [
    {
     "data": {
      "application/vnd.jupyter.widget-view+json": {
       "model_id": "5a1c4455a1d04002b956a2f59a968ff9",
       "version_major": 2,
       "version_minor": 0
      },
      "text/plain": [
       "  0%|          | 0/90 [00:00<?, ?it/s]"
      ]
     },
     "metadata": {},
     "output_type": "display_data"
    },
    {
     "name": "stdout",
     "output_type": "stream",
     "text": [
      "Step : 1 / 90\n",
      "Step : 2 / 90\n",
      "Step : 3 / 90\n",
      "Step : 4 / 90\n",
      "Step : 5 / 90\n",
      "Step : 6 / 90\n",
      "Step : 7 / 90\n",
      "Step : 8 / 90\n",
      "Step : 9 / 90\n",
      "Step : 10 / 90\n",
      "Step : 11 / 90\n",
      "Step : 12 / 90\n",
      "Step : 13 / 90\n",
      "Step : 14 / 90\n",
      "Step : 15 / 90\n",
      "Step : 16 / 90\n",
      "Step : 17 / 90\n",
      "Step : 18 / 90\n",
      "Step : 19 / 90\n",
      "Step : 20 / 90\n",
      "Step : 21 / 90\n",
      "Step : 22 / 90\n",
      "Step : 23 / 90\n",
      "Step : 24 / 90\n",
      "Step : 25 / 90\n",
      "Step : 26 / 90\n",
      "Step : 27 / 90\n",
      "Step : 28 / 90\n",
      "Step : 29 / 90\n",
      "Step : 30 / 90\n",
      "Step : 31 / 90\n",
      "Step : 32 / 90\n",
      "Step : 33 / 90\n",
      "Step : 34 / 90\n",
      "Step : 35 / 90\n",
      "Step : 36 / 90\n",
      "Step : 37 / 90\n",
      "Step : 38 / 90\n",
      "Step : 39 / 90\n",
      "Step : 40 / 90\n",
      "Step : 41 / 90\n",
      "Step : 42 / 90\n",
      "Step : 43 / 90\n",
      "Step : 44 / 90\n",
      "Step : 45 / 90\n",
      "Step : 46 / 90\n",
      "Step : 47 / 90\n",
      "Step : 48 / 90\n",
      "Step : 49 / 90\n",
      "Step : 50 / 90\n",
      "Step : 51 / 90\n",
      "Step : 52 / 90\n",
      "Step : 53 / 90\n",
      "Step : 54 / 90\n",
      "Step : 55 / 90\n",
      "Step : 56 / 90\n",
      "Step : 57 / 90\n",
      "Step : 58 / 90\n",
      "Step : 59 / 90\n",
      "Step : 60 / 90\n",
      "Step : 61 / 90\n",
      "Step : 62 / 90\n",
      "Step : 63 / 90\n",
      "Step : 64 / 90\n",
      "Step : 65 / 90\n",
      "Step : 66 / 90\n",
      "Step : 67 / 90\n",
      "Step : 68 / 90\n",
      "Step : 69 / 90\n",
      "Step : 70 / 90\n",
      "Step : 71 / 90\n",
      "Step : 72 / 90\n",
      "Step : 73 / 90\n",
      "Step : 74 / 90\n",
      "Step : 75 / 90\n",
      "Step : 76 / 90\n",
      "Step : 77 / 90\n",
      "Step : 78 / 90\n",
      "Step : 79 / 90\n",
      "Step : 80 / 90\n",
      "Step : 81 / 90\n",
      "Step : 82 / 90\n",
      "Step : 83 / 90\n",
      "Step : 84 / 90\n",
      "Step : 85 / 90\n",
      "Step : 86 / 90\n",
      "Step : 87 / 90\n",
      "Step : 88 / 90\n",
      "Step : 89 / 90\n",
      "Step : 90 / 90\n"
     ]
    },
    {
     "data": {
      "image/png": "[encoded data removed]",
      "text/plain": [
       "<Figure size 640x480 with 1 Axes>"
      ]
     },
     "metadata": {},
     "output_type": "display_data"
    }
   ],
   "source": [
    "#|eval:false\n",
    "range_ = trange(Nsteps)\n",
    "losses = np.ndarray(Nsteps)\n",
    "for step in range_:\n",
    "    print(\"Step :\", step+1, '/', Nsteps)\n",
    "    loss, state = step_fn(step, state)\n",
    "    losses[step] = loss\n",
    "    range_.set_postfix(loss=float(loss))\n",
    "\n",
    "plt.semilogy(np.arange(Nsteps), losses/np.max(losses));\n",
    "plt.xlabel(\"Step\")\n",
    "plt.ylabel(\"Normalized loss\")\n",
    "plt.grid(True)"
   ]
  },
  {
   "cell_type": "code",
   "execution_count": 27,
   "id": "0e259644",
   "metadata": {
    "scrolled": true
   },
   "outputs": [
    {
     "data": {
      "text/plain": [
       "<matplotlib.image.AxesImage at 0x7f13702ec3d0>"
      ]
     },
     "execution_count": 27,
     "metadata": {},
     "output_type": "execute_result"
    },
    {
     "data": {
      "image/png": "[encoded data removed]",
      "text/plain": [
       "<Figure size 640x480 with 2 Axes>"
      ]
     },
     "metadata": {},
     "output_type": "display_data"
    }
   ],
   "source": [
    "fig, ax = plt.subplots(1,2)\n",
    "ax[0].imshow(model.epsilon_r(params_fn(state)), origin='lower', cmap='magma')\n",
    "ax[1].imshow(model.epsilon_r(forward(params_fn(state), brush)), origin='lower', cmap='magma')"
   ]
  },
  {
   "cell_type": "code",
   "execution_count": 28,
   "id": "d2ca3012",
   "metadata": {},
   "outputs": [
    {
     "data": {
      "image/png": "[encoded data removed]",
      "text/plain": [
       "<Figure size 640x480 with 1 Axes>"
      ]
     },
     "metadata": {},
     "output_type": "display_data"
    }
   ],
   "source": [
    "plt.semilogy(np.arange(Nsteps), losses/np.max(losses));\n",
    "plt.xlabel(\"Step\")\n",
    "plt.ylabel(\"Normalized loss\")\n",
    "plt.grid(True)"
   ]
  },
  {
   "cell_type": "code",
   "execution_count": 17,
   "id": "89ce0025",
   "metadata": {},
   "outputs": [
    {
     "ename": "NameError",
     "evalue": "name 'loss10' is not defined",
     "output_type": "error",
     "traceback": [
      "\u001b[0;31m---------------------------------------------------------------------------\u001b[0m",
      "\u001b[0;31mNameError\u001b[0m                                 Traceback (most recent call last)",
      "Cell \u001b[0;32mIn[17], line 1\u001b[0m\n\u001b[0;32m----> 1\u001b[0m plt\u001b[38;5;241m.\u001b[39msemilogy(np\u001b[38;5;241m.\u001b[39marange(Nsteps), \u001b[43mloss10\u001b[49m\u001b[38;5;241m/\u001b[39mnp\u001b[38;5;241m.\u001b[39mmax(loss10), label\u001b[38;5;241m=\u001b[39m\u001b[38;5;124m\"\u001b[39m\u001b[38;5;124m10**(-x/10)\u001b[39m\u001b[38;5;124m\"\u001b[39m);\n\u001b[1;32m      2\u001b[0m plt\u001b[38;5;241m.\u001b[39msemilogy(np\u001b[38;5;241m.\u001b[39marange(Nsteps), loss20\u001b[38;5;241m/\u001b[39mnp\u001b[38;5;241m.\u001b[39mmax(loss20), label\u001b[38;5;241m=\u001b[39m\u001b[38;5;124m\"\u001b[39m\u001b[38;5;124m10**(-x/20)\u001b[39m\u001b[38;5;124m\"\u001b[39m);\n\u001b[1;32m      3\u001b[0m plt\u001b[38;5;241m.\u001b[39mxlabel(\u001b[38;5;124m\"\u001b[39m\u001b[38;5;124mStep\u001b[39m\u001b[38;5;124m\"\u001b[39m)\n",
      "\u001b[0;31mNameError\u001b[0m: name 'loss10' is not defined"
     ]
    }
   ],
   "source": [
    "plt.semilogy(np.arange(Nsteps), loss10/np.max(loss10), label=\"10**(-x/10)\");\n",
    "plt.semilogy(np.arange(Nsteps), loss20/np.max(loss20), label=\"10**(-x/20)\");\n",
    "plt.xlabel(\"Step\")\n",
    "plt.ylabel(\"Normalized loss\")\n",
    "plt.legend()\n",
    "plt.grid(True)"
   ]
  },
  {
   "cell_type": "code",
   "execution_count": null,
   "id": "86916126",
   "metadata": {},
   "outputs": [],
   "source": []
  }
 ],
 "metadata": {
  "kernelspec": {
   "display_name": "Python 3 (ipykernel)",
   "language": "python",
   "name": "python3"
  },
  "language_info": {
   "codemirror_mode": {
    "name": "ipython",
    "version": 3
   },
   "file_extension": ".py",
   "mimetype": "text/x-python",
   "name": "python",
   "nbconvert_exporter": "python",
   "pygments_lexer": "ipython3",
   "version": "3.11.0"
  },
  "vscode": {
   "interpreter": {
    "hash": "a5d82d334f0157d2be4b279e89bf68849715c6d8952d96f6c35a4a723c2a5f2a"
   }
  }
 },
 "nbformat": 4,
 "nbformat_minor": 5
}
