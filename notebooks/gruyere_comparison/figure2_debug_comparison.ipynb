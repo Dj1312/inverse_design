{
 "cells": [
  {
   "cell_type": "markdown",
   "metadata": {},
   "source": [
    "#### Ensure gruyere files can be used"
   ]
  },
  {
   "cell_type": "code",
   "execution_count": 3,
   "metadata": {
    "scrolled": true
   },
   "outputs": [],
   "source": [
    "import sys\n",
    "sys.path.append('.../inverse_design/gruyere/')"
   ]
  },
  {
   "cell_type": "code",
   "execution_count": 4,
   "metadata": {},
   "outputs": [
    {
     "name": "stdout",
     "output_type": "stream",
     "text": [
      "['/home/lucas/inverse_design/notebooks/gruyere_comparison', '/home/lucas/micromamba/envs/mamba_inverse_design/lib/python311.zip', '/home/lucas/micromamba/envs/mamba_inverse_design/lib/python3.11', '/home/lucas/micromamba/envs/mamba_inverse_design/lib/python3.11/lib-dynload', '', '/home/lucas/micromamba/envs/mamba_inverse_design/lib/python3.11/site-packages', '/home/lucas/micromamba/envs/mamba_inverse_design/lib/python3.11/site-packages/inverse_design-0.0.0-py3.11.egg', '../inverse_design/gruyere/', '.../inverse_design/gruyere/']\n"
     ]
    }
   ],
   "source": [
    "print(sys.path)"
   ]
  },
  {
   "cell_type": "code",
   "execution_count": 5,
   "metadata": {},
   "outputs": [
    {
     "ename": "ModuleNotFoundError",
     "evalue": "No module named 'gruyere'",
     "output_type": "error",
     "traceback": [
      "\u001b[0;31m---------------------------------------------------------------------------\u001b[0m",
      "\u001b[0;31mModuleNotFoundError\u001b[0m                       Traceback (most recent call last)",
      "Cell \u001b[0;32mIn[5], line 6\u001b[0m\n\u001b[1;32m      3\u001b[0m \u001b[38;5;28;01mimport\u001b[39;00m \u001b[38;5;21;01mjax\u001b[39;00m\u001b[38;5;21;01m.\u001b[39;00m\u001b[38;5;21;01mnumpy\u001b[39;00m \u001b[38;5;28;01mas\u001b[39;00m \u001b[38;5;21;01mjnp\u001b[39;00m\n\u001b[1;32m      4\u001b[0m \u001b[38;5;28;01mimport\u001b[39;00m \u001b[38;5;21;01mmatplotlib\u001b[39;00m\u001b[38;5;21;01m.\u001b[39;00m\u001b[38;5;21;01mpyplot\u001b[39;00m \u001b[38;5;28;01mas\u001b[39;00m \u001b[38;5;21;01mplt\u001b[39;00m\n\u001b[0;32m----> 6\u001b[0m \u001b[38;5;28;01mfrom\u001b[39;00m \u001b[38;5;21;01mgruyere\u001b[39;00m\u001b[38;5;21;01m.\u001b[39;00m\u001b[38;5;21;01mbrushes\u001b[39;00m \u001b[38;5;28;01mimport\u001b[39;00m notched_square_brush, circular_brush, show_mask\n\u001b[1;32m      7\u001b[0m \u001b[38;5;28;01mfrom\u001b[39;00m \u001b[38;5;21;01mgruyere\u001b[39;00m\u001b[38;5;21;01m.\u001b[39;00m\u001b[38;5;21;01mdesign\u001b[39;00m \u001b[38;5;28;01mimport\u001b[39;00m _initialize_design, Design\n\u001b[1;32m      8\u001b[0m \u001b[38;5;28;01mfrom\u001b[39;00m \u001b[38;5;21;01mgruyere\u001b[39;00m\u001b[38;5;21;01m.\u001b[39;00m\u001b[38;5;21;01mgenerator\u001b[39;00m \u001b[38;5;28;01mimport\u001b[39;00m generate_design, _step_generator\n",
      "\u001b[0;31mModuleNotFoundError\u001b[0m: No module named 'gruyere'"
     ]
    }
   ],
   "source": [
    "import kernex as kex\n",
    "import jax\n",
    "import jax.numpy as jnp\n",
    "import matplotlib.pyplot as plt\n",
    "\n",
    "from gruyere.brushes import notched_square_brush, circular_brush, show_mask\n",
    "from gruyere.design import _initialize_design, Design\n",
    "from gruyere.generator import generate_design, _step_generator\n",
    "from gruyere.states import DesignState\n",
    "\n",
    "import matplotlib as mpl\n",
    "mpl.rcParams['figure.dpi'] = 70"
   ]
  },
  {
   "cell_type": "markdown",
   "metadata": {},
   "source": [
    "# We generate an initial random design "
   ]
  },
  {
   "cell_type": "code",
   "execution_count": null,
   "metadata": {},
   "outputs": [],
   "source": [
    "## We initalize a random array\n",
    "# size = 30\n",
    "size = 125\n",
    "# size = 15\n",
    "\n",
    "key = jax.random.PRNGKey(42)\n",
    "latent_design = jax.random.uniform(key, (size,size)) * 2 - 1"
   ]
  },
  {
   "cell_type": "code",
   "execution_count": null,
   "metadata": {},
   "outputs": [],
   "source": [
    "## We define the transform function\n",
    "beta = 4\n",
    "def transform(design, brush, beta=1):\n",
    "    @jax.jit\n",
    "    @kex.kmap(kernel_size=brush.shape, padding=('same','same'))\n",
    "    def brush_conv(x):\n",
    "        return jnp.sum(x * brush)\n",
    "\n",
    "    return jnp.tanh(beta * brush_conv(design))"
   ]
  },
  {
   "cell_type": "markdown",
   "metadata": {},
   "source": [
    "# Figure 2. (a)  diameter-13 circular brush"
   ]
  },
  {
   "cell_type": "code",
   "execution_count": null,
   "metadata": {},
   "outputs": [],
   "source": [
    "circ_brush = circular_brush(9)\n",
    "# circ_brush = circular_brush(3)\n",
    "# circ_brush = circular_brush(13)\n",
    "show_mask(circ_brush);"
   ]
  },
  {
   "cell_type": "code",
   "execution_count": null,
   "metadata": {},
   "outputs": [],
   "source": [
    "transformed_design1 = transform(latent_design, circ_brush)\n",
    "\n",
    "fig, ax = plt.subplots(1,2)\n",
    "ax[0].imshow(latent_design);\n",
    "ax[1].imshow(transformed_design1);"
   ]
  },
  {
   "cell_type": "code",
   "execution_count": null,
   "metadata": {},
   "outputs": [],
   "source": [
    "circ_design = generate_design(transformed_design1, circ_brush)\n",
    "# circ_design.show()"
   ]
  },
  {
   "cell_type": "code",
   "execution_count": null,
   "metadata": {},
   "outputs": [],
   "source": [
    "plt.imshow(circ_design.x)"
   ]
  },
  {
   "cell_type": "code",
   "execution_count": null,
   "metadata": {},
   "outputs": [],
   "source": [
    "from inverse_design.local_generator import generate_feasible_design_mask, dilate\n",
    "from inverse_design.design import visualize"
   ]
  },
  {
   "cell_type": "code",
   "execution_count": null,
   "metadata": {},
   "outputs": [],
   "source": [
    "# brush = circ_brush\n",
    "\n",
    "# bg_mask = jnp.logical_or(bg_epsr>2, design_region)\n",
    "# eroded = dilate(jnp.logical_not(bg_mask), brush)\n",
    "# dilated = dilate(bg_epsr>2, brush)\n",
    "\n",
    "\n",
    "# init_t_s = jnp.logical_not(jnp.logical_or(eroded, design_region)) \n",
    "# init_t_v = jnp.logical_not(jnp.logical_or(dilated, design_region))"
   ]
  },
  {
   "cell_type": "code",
   "execution_count": null,
   "metadata": {},
   "outputs": [],
   "source": [
    "design = generate_feasible_design_mask(transformed_design1, circ_brush)\n",
    "plt.imshow(design)"
   ]
  },
  {
   "cell_type": "markdown",
   "metadata": {},
   "source": [
    "circ_design = generate_design(transformed_design1, circ_brush)\n",
    "circ_design.show()"
   ]
  },
  {
   "cell_type": "code",
   "execution_count": null,
   "metadata": {},
   "outputs": [],
   "source": [
    "fig, ax = plt.subplots(1,3)\n",
    "ax[0].imshow(circ_design.x)\n",
    "ax[1].imshow(design)\n",
    "ax[2].imshow(design - circ_design.x)"
   ]
  },
  {
   "cell_type": "code",
   "execution_count": null,
   "metadata": {},
   "outputs": [],
   "source": []
  }
 ],
 "metadata": {
  "kernelspec": {
   "display_name": "Python 3 (ipykernel)",
   "language": "python",
   "name": "python3"
  },
  "language_info": {
   "codemirror_mode": {
    "name": "ipython",
    "version": 3
   },
   "file_extension": ".py",
   "mimetype": "text/x-python",
   "name": "python",
   "nbconvert_exporter": "python",
   "pygments_lexer": "ipython3",
   "version": "3.11.0"
  },
  "vscode": {
   "interpreter": {
    "hash": "a5d82d334f0157d2be4b279e89bf68849715c6d8952d96f6c35a4a723c2a5f2a"
   }
  }
 },
 "nbformat": 4,
 "nbformat_minor": 2
}
