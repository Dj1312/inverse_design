{
 "cells": [
  {
   "cell_type": "raw",
   "id": "024c5aec",
   "metadata": {},
   "source": [
    "---\n",
    "description: Inverse Design Tools\n",
    "output-file: index.html\n",
    "title: Inverse Design\n",
    "\n",
    "---\n",
    "\n"
   ]
  },
  {
   "cell_type": "markdown",
   "id": "e4b409c6",
   "metadata": {},
   "source": [
    "Trying to replicate the results of the following paper:\n",
    "- \"Inverse design of photonic devices with strict foundry fabrication constraints\""
   ]
  }
 ],
 "metadata": {
  "kernelspec": {
   "display_name": "Python 3 (ipykernel)",
   "language": "python",
   "name": "python3"
  }
 },
 "nbformat": 4,
 "nbformat_minor": 5
}
